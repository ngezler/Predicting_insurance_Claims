{
 "cells": [
  {
   "cell_type": "markdown",
   "metadata": {},
   "source": [
    " ## Insurance claims analysis"
   ]
  },
  {
   "cell_type": "markdown",
   "metadata": {},
   "source": [
    "start by importing the necessary libraries for preprocessing our data"
   ]
  },
  {
   "cell_type": "code",
   "execution_count": 10,
   "metadata": {},
   "outputs": [],
   "source": [
    "import pandas as pd\n",
    "import numpy as np"
   ]
  },
  {
   "cell_type": "code",
   "execution_count": 11,
   "metadata": {},
   "outputs": [],
   "source": [
    "raw_data =  pd.read_csv(\"Set.csv\")"
   ]
  },
  {
   "cell_type": "markdown",
   "metadata": {},
   "source": [
    "I always make a copy of the original data incase I make a mistake while preprocessing I my be able to call the raw_data that is still clean "
   ]
  },
  {
   "cell_type": "code",
   "execution_count": 12,
   "metadata": {},
   "outputs": [],
   "source": [
    "df =  raw_data.copy()"
   ]
  },
  {
   "cell_type": "markdown",
   "metadata": {},
   "source": [
    "just get an idea of how my dataset is shaped"
   ]
  },
  {
   "cell_type": "code",
   "execution_count": 13,
   "metadata": {},
   "outputs": [
    {
     "data": {
      "text/plain": [
       "(1338, 15)"
      ]
     },
     "execution_count": 13,
     "metadata": {},
     "output_type": "execute_result"
    }
   ],
   "source": [
    "df.shape"
   ]
  },
  {
   "cell_type": "markdown",
   "metadata": {},
   "source": [
    "eyeball the head columns of the data"
   ]
  },
  {
   "cell_type": "code",
   "execution_count": 14,
   "metadata": {},
   "outputs": [
    {
     "data": {
      "text/html": [
       "<div>\n",
       "<style scoped>\n",
       "    .dataframe tbody tr th:only-of-type {\n",
       "        vertical-align: middle;\n",
       "    }\n",
       "\n",
       "    .dataframe tbody tr th {\n",
       "        vertical-align: top;\n",
       "    }\n",
       "\n",
       "    .dataframe thead th {\n",
       "        text-align: right;\n",
       "    }\n",
       "</style>\n",
       "<table border=\"1\" class=\"dataframe\">\n",
       "  <thead>\n",
       "    <tr style=\"text-align: right;\">\n",
       "      <th></th>\n",
       "      <th>Unnamed: 0</th>\n",
       "      <th>age</th>\n",
       "      <th>sex</th>\n",
       "      <th>bmi</th>\n",
       "      <th>steps</th>\n",
       "      <th>children</th>\n",
       "      <th>smoker</th>\n",
       "      <th>region</th>\n",
       "      <th>insurance_claim</th>\n",
       "      <th>claim_amount</th>\n",
       "      <th>age_group</th>\n",
       "      <th>parental_status</th>\n",
       "      <th>fitness_level</th>\n",
       "      <th>weight_groups</th>\n",
       "      <th>fitness_group</th>\n",
       "    </tr>\n",
       "  </thead>\n",
       "  <tbody>\n",
       "    <tr>\n",
       "      <th>0</th>\n",
       "      <td>0</td>\n",
       "      <td>36</td>\n",
       "      <td>female</td>\n",
       "      <td>29.9</td>\n",
       "      <td>8007</td>\n",
       "      <td>0</td>\n",
       "      <td>no</td>\n",
       "      <td>southeast</td>\n",
       "      <td>yes</td>\n",
       "      <td>4889.04</td>\n",
       "      <td>adults</td>\n",
       "      <td>None Parent</td>\n",
       "      <td>Somewhat Active</td>\n",
       "      <td>Over Weight</td>\n",
       "      <td>Somewhat Active</td>\n",
       "    </tr>\n",
       "    <tr>\n",
       "      <th>1</th>\n",
       "      <td>1</td>\n",
       "      <td>38</td>\n",
       "      <td>female</td>\n",
       "      <td>40.2</td>\n",
       "      <td>4008</td>\n",
       "      <td>0</td>\n",
       "      <td>no</td>\n",
       "      <td>southeast</td>\n",
       "      <td>yes</td>\n",
       "      <td>5400.98</td>\n",
       "      <td>adults</td>\n",
       "      <td>None Parent</td>\n",
       "      <td>Sedntary Lifestyle</td>\n",
       "      <td>Very Obese</td>\n",
       "      <td>None Active</td>\n",
       "    </tr>\n",
       "    <tr>\n",
       "      <th>2</th>\n",
       "      <td>2</td>\n",
       "      <td>41</td>\n",
       "      <td>male</td>\n",
       "      <td>40.3</td>\n",
       "      <td>3001</td>\n",
       "      <td>0</td>\n",
       "      <td>no</td>\n",
       "      <td>southeast</td>\n",
       "      <td>yes</td>\n",
       "      <td>5709.16</td>\n",
       "      <td>adults</td>\n",
       "      <td>None Parent</td>\n",
       "      <td>Sedntary Lifestyle</td>\n",
       "      <td>Very Obese</td>\n",
       "      <td>None Active</td>\n",
       "    </tr>\n",
       "    <tr>\n",
       "      <th>3</th>\n",
       "      <td>3</td>\n",
       "      <td>40</td>\n",
       "      <td>male</td>\n",
       "      <td>41.7</td>\n",
       "      <td>4007</td>\n",
       "      <td>0</td>\n",
       "      <td>no</td>\n",
       "      <td>southeast</td>\n",
       "      <td>yes</td>\n",
       "      <td>5438.75</td>\n",
       "      <td>adults</td>\n",
       "      <td>None Parent</td>\n",
       "      <td>Sedntary Lifestyle</td>\n",
       "      <td>Very Obese</td>\n",
       "      <td>None Active</td>\n",
       "    </tr>\n",
       "    <tr>\n",
       "      <th>4</th>\n",
       "      <td>4</td>\n",
       "      <td>39</td>\n",
       "      <td>female</td>\n",
       "      <td>41.8</td>\n",
       "      <td>3008</td>\n",
       "      <td>0</td>\n",
       "      <td>no</td>\n",
       "      <td>southeast</td>\n",
       "      <td>yes</td>\n",
       "      <td>5662.23</td>\n",
       "      <td>adults</td>\n",
       "      <td>None Parent</td>\n",
       "      <td>Sedntary Lifestyle</td>\n",
       "      <td>Very Obese</td>\n",
       "      <td>None Active</td>\n",
       "    </tr>\n",
       "  </tbody>\n",
       "</table>\n",
       "</div>"
      ],
      "text/plain": [
       "   Unnamed: 0  age     sex   bmi  steps  children smoker     region  \\\n",
       "0           0   36  female  29.9   8007         0     no  southeast   \n",
       "1           1   38  female  40.2   4008         0     no  southeast   \n",
       "2           2   41    male  40.3   3001         0     no  southeast   \n",
       "3           3   40    male  41.7   4007         0     no  southeast   \n",
       "4           4   39  female  41.8   3008         0     no  southeast   \n",
       "\n",
       "  insurance_claim  claim_amount age_group parental_status       fitness_level  \\\n",
       "0             yes       4889.04    adults     None Parent     Somewhat Active   \n",
       "1             yes       5400.98    adults     None Parent  Sedntary Lifestyle   \n",
       "2             yes       5709.16    adults     None Parent  Sedntary Lifestyle   \n",
       "3             yes       5438.75    adults     None Parent  Sedntary Lifestyle   \n",
       "4             yes       5662.23    adults     None Parent  Sedntary Lifestyle   \n",
       "\n",
       "  weight_groups    fitness_group  \n",
       "0   Over Weight  Somewhat Active  \n",
       "1    Very Obese      None Active  \n",
       "2    Very Obese      None Active  \n",
       "3    Very Obese      None Active  \n",
       "4    Very Obese      None Active  "
      ]
     },
     "execution_count": 14,
     "metadata": {},
     "output_type": "execute_result"
    }
   ],
   "source": [
    "df.head()"
   ]
  },
  {
   "cell_type": "code",
   "execution_count": 15,
   "metadata": {},
   "outputs": [],
   "source": [
    "df = df.drop(['Unnamed: 0'], axis=1)"
   ]
  },
  {
   "cell_type": "markdown",
   "metadata": {},
   "source": [
    "Get statistics descriptions of the data"
   ]
  },
  {
   "cell_type": "code",
   "execution_count": 16,
   "metadata": {},
   "outputs": [
    {
     "data": {
      "text/html": [
       "<div>\n",
       "<style scoped>\n",
       "    .dataframe tbody tr th:only-of-type {\n",
       "        vertical-align: middle;\n",
       "    }\n",
       "\n",
       "    .dataframe tbody tr th {\n",
       "        vertical-align: top;\n",
       "    }\n",
       "\n",
       "    .dataframe thead th {\n",
       "        text-align: right;\n",
       "    }\n",
       "</style>\n",
       "<table border=\"1\" class=\"dataframe\">\n",
       "  <thead>\n",
       "    <tr style=\"text-align: right;\">\n",
       "      <th></th>\n",
       "      <th>age</th>\n",
       "      <th>bmi</th>\n",
       "      <th>steps</th>\n",
       "      <th>children</th>\n",
       "      <th>claim_amount</th>\n",
       "    </tr>\n",
       "  </thead>\n",
       "  <tbody>\n",
       "    <tr>\n",
       "      <th>count</th>\n",
       "      <td>1338.000000</td>\n",
       "      <td>1338.000000</td>\n",
       "      <td>1338.000000</td>\n",
       "      <td>1338.000000</td>\n",
       "      <td>1338.000000</td>\n",
       "    </tr>\n",
       "    <tr>\n",
       "      <th>mean</th>\n",
       "      <td>39.207025</td>\n",
       "      <td>30.665471</td>\n",
       "      <td>5328.623318</td>\n",
       "      <td>1.094918</td>\n",
       "      <td>9611.312347</td>\n",
       "    </tr>\n",
       "    <tr>\n",
       "      <th>std</th>\n",
       "      <td>14.049960</td>\n",
       "      <td>6.098382</td>\n",
       "      <td>2453.643236</td>\n",
       "      <td>1.205493</td>\n",
       "      <td>13450.624556</td>\n",
       "    </tr>\n",
       "    <tr>\n",
       "      <th>min</th>\n",
       "      <td>18.000000</td>\n",
       "      <td>16.000000</td>\n",
       "      <td>3000.000000</td>\n",
       "      <td>0.000000</td>\n",
       "      <td>0.000000</td>\n",
       "    </tr>\n",
       "    <tr>\n",
       "      <th>25%</th>\n",
       "      <td>27.000000</td>\n",
       "      <td>26.300000</td>\n",
       "      <td>3008.000000</td>\n",
       "      <td>0.000000</td>\n",
       "      <td>0.000000</td>\n",
       "    </tr>\n",
       "    <tr>\n",
       "      <th>50%</th>\n",
       "      <td>39.000000</td>\n",
       "      <td>30.400000</td>\n",
       "      <td>4007.000000</td>\n",
       "      <td>1.000000</td>\n",
       "      <td>2748.485000</td>\n",
       "    </tr>\n",
       "    <tr>\n",
       "      <th>75%</th>\n",
       "      <td>51.000000</td>\n",
       "      <td>34.700000</td>\n",
       "      <td>8004.000000</td>\n",
       "      <td>2.000000</td>\n",
       "      <td>13045.977500</td>\n",
       "    </tr>\n",
       "    <tr>\n",
       "      <th>max</th>\n",
       "      <td>64.000000</td>\n",
       "      <td>53.100000</td>\n",
       "      <td>10010.000000</td>\n",
       "      <td>5.000000</td>\n",
       "      <td>63770.430000</td>\n",
       "    </tr>\n",
       "  </tbody>\n",
       "</table>\n",
       "</div>"
      ],
      "text/plain": [
       "               age          bmi         steps     children  claim_amount\n",
       "count  1338.000000  1338.000000   1338.000000  1338.000000   1338.000000\n",
       "mean     39.207025    30.665471   5328.623318     1.094918   9611.312347\n",
       "std      14.049960     6.098382   2453.643236     1.205493  13450.624556\n",
       "min      18.000000    16.000000   3000.000000     0.000000      0.000000\n",
       "25%      27.000000    26.300000   3008.000000     0.000000      0.000000\n",
       "50%      39.000000    30.400000   4007.000000     1.000000   2748.485000\n",
       "75%      51.000000    34.700000   8004.000000     2.000000  13045.977500\n",
       "max      64.000000    53.100000  10010.000000     5.000000  63770.430000"
      ]
     },
     "execution_count": 16,
     "metadata": {},
     "output_type": "execute_result"
    }
   ],
   "source": [
    "df.describe()"
   ]
  },
  {
   "cell_type": "markdown",
   "metadata": {},
   "source": [
    "now I convert insurance_claim values from categorical to bin variables that we will use for our classisfication model"
   ]
  },
  {
   "cell_type": "code",
   "execution_count": null,
   "metadata": {},
   "outputs": [],
   "source": [
    "raw_data['insurance_claim'] = raw_data['insurance_claim'].map({'yes': 1, 'no': 0})"
   ]
  },
  {
   "cell_type": "code",
   "execution_count": 17,
   "metadata": {},
   "outputs": [],
   "source": [
    "df['insurance_claim'] = df['insurance_claim'].map({'yes': 1, 'no': 0})"
   ]
  },
  {
   "cell_type": "code",
   "execution_count": 81,
   "metadata": {},
   "outputs": [
    {
     "data": {
      "text/html": [
       "<div>\n",
       "<style scoped>\n",
       "    .dataframe tbody tr th:only-of-type {\n",
       "        vertical-align: middle;\n",
       "    }\n",
       "\n",
       "    .dataframe tbody tr th {\n",
       "        vertical-align: top;\n",
       "    }\n",
       "\n",
       "    .dataframe thead th {\n",
       "        text-align: right;\n",
       "    }\n",
       "</style>\n",
       "<table border=\"1\" class=\"dataframe\">\n",
       "  <thead>\n",
       "    <tr style=\"text-align: right;\">\n",
       "      <th></th>\n",
       "      <th>age</th>\n",
       "      <th>sex</th>\n",
       "      <th>bmi</th>\n",
       "      <th>steps</th>\n",
       "      <th>children</th>\n",
       "      <th>smoker</th>\n",
       "      <th>region</th>\n",
       "      <th>insurance_claim</th>\n",
       "      <th>claim_amount</th>\n",
       "      <th>age_group</th>\n",
       "      <th>parental_status</th>\n",
       "      <th>fitness_level</th>\n",
       "      <th>weight_groups</th>\n",
       "      <th>fitness_group</th>\n",
       "    </tr>\n",
       "  </thead>\n",
       "  <tbody>\n",
       "    <tr>\n",
       "      <th>0</th>\n",
       "      <td>36</td>\n",
       "      <td>female</td>\n",
       "      <td>29.9</td>\n",
       "      <td>8007</td>\n",
       "      <td>0</td>\n",
       "      <td>no</td>\n",
       "      <td>southeast</td>\n",
       "      <td>1</td>\n",
       "      <td>4889.04</td>\n",
       "      <td>adults</td>\n",
       "      <td>None Parent</td>\n",
       "      <td>Somewhat Active</td>\n",
       "      <td>Over Weight</td>\n",
       "      <td>Somewhat Active</td>\n",
       "    </tr>\n",
       "    <tr>\n",
       "      <th>1</th>\n",
       "      <td>38</td>\n",
       "      <td>female</td>\n",
       "      <td>40.2</td>\n",
       "      <td>4008</td>\n",
       "      <td>0</td>\n",
       "      <td>no</td>\n",
       "      <td>southeast</td>\n",
       "      <td>1</td>\n",
       "      <td>5400.98</td>\n",
       "      <td>adults</td>\n",
       "      <td>None Parent</td>\n",
       "      <td>Sedntary Lifestyle</td>\n",
       "      <td>Very Obese</td>\n",
       "      <td>None Active</td>\n",
       "    </tr>\n",
       "    <tr>\n",
       "      <th>2</th>\n",
       "      <td>41</td>\n",
       "      <td>male</td>\n",
       "      <td>40.3</td>\n",
       "      <td>3001</td>\n",
       "      <td>0</td>\n",
       "      <td>no</td>\n",
       "      <td>southeast</td>\n",
       "      <td>1</td>\n",
       "      <td>5709.16</td>\n",
       "      <td>adults</td>\n",
       "      <td>None Parent</td>\n",
       "      <td>Sedntary Lifestyle</td>\n",
       "      <td>Very Obese</td>\n",
       "      <td>None Active</td>\n",
       "    </tr>\n",
       "    <tr>\n",
       "      <th>3</th>\n",
       "      <td>40</td>\n",
       "      <td>male</td>\n",
       "      <td>41.7</td>\n",
       "      <td>4007</td>\n",
       "      <td>0</td>\n",
       "      <td>no</td>\n",
       "      <td>southeast</td>\n",
       "      <td>1</td>\n",
       "      <td>5438.75</td>\n",
       "      <td>adults</td>\n",
       "      <td>None Parent</td>\n",
       "      <td>Sedntary Lifestyle</td>\n",
       "      <td>Very Obese</td>\n",
       "      <td>None Active</td>\n",
       "    </tr>\n",
       "    <tr>\n",
       "      <th>4</th>\n",
       "      <td>39</td>\n",
       "      <td>female</td>\n",
       "      <td>41.8</td>\n",
       "      <td>3008</td>\n",
       "      <td>0</td>\n",
       "      <td>no</td>\n",
       "      <td>southeast</td>\n",
       "      <td>1</td>\n",
       "      <td>5662.23</td>\n",
       "      <td>adults</td>\n",
       "      <td>None Parent</td>\n",
       "      <td>Sedntary Lifestyle</td>\n",
       "      <td>Very Obese</td>\n",
       "      <td>None Active</td>\n",
       "    </tr>\n",
       "  </tbody>\n",
       "</table>\n",
       "</div>"
      ],
      "text/plain": [
       "   age     sex   bmi  steps  children smoker     region  insurance_claim  \\\n",
       "0   36  female  29.9   8007         0     no  southeast                1   \n",
       "1   38  female  40.2   4008         0     no  southeast                1   \n",
       "2   41    male  40.3   3001         0     no  southeast                1   \n",
       "3   40    male  41.7   4007         0     no  southeast                1   \n",
       "4   39  female  41.8   3008         0     no  southeast                1   \n",
       "\n",
       "   claim_amount age_group parental_status       fitness_level weight_groups  \\\n",
       "0       4889.04    adults     None Parent     Somewhat Active   Over Weight   \n",
       "1       5400.98    adults     None Parent  Sedntary Lifestyle    Very Obese   \n",
       "2       5709.16    adults     None Parent  Sedntary Lifestyle    Very Obese   \n",
       "3       5438.75    adults     None Parent  Sedntary Lifestyle    Very Obese   \n",
       "4       5662.23    adults     None Parent  Sedntary Lifestyle    Very Obese   \n",
       "\n",
       "     fitness_group  \n",
       "0  Somewhat Active  \n",
       "1      None Active  \n",
       "2      None Active  \n",
       "3      None Active  \n",
       "4      None Active  "
      ]
     },
     "execution_count": 81,
     "metadata": {},
     "output_type": "execute_result"
    }
   ],
   "source": [
    "df.head()"
   ]
  },
  {
   "cell_type": "markdown",
   "metadata": {},
   "source": [
    "get dummy variables "
   ]
  },
  {
   "cell_type": "code",
   "execution_count": null,
   "metadata": {},
   "outputs": [],
   "source": []
  },
  {
   "cell_type": "code",
   "execution_count": null,
   "metadata": {},
   "outputs": [],
   "source": []
  },
  {
   "cell_type": "code",
   "execution_count": null,
   "metadata": {},
   "outputs": [],
   "source": []
  },
  {
   "cell_type": "code",
   "execution_count": 18,
   "metadata": {},
   "outputs": [],
   "source": [
    "df = pd.get_dummies(df, drop_first=True)"
   ]
  },
  {
   "cell_type": "code",
   "execution_count": null,
   "metadata": {},
   "outputs": [],
   "source": []
  },
  {
   "cell_type": "code",
   "execution_count": 19,
   "metadata": {},
   "outputs": [
    {
     "data": {
      "text/html": [
       "<div>\n",
       "<style scoped>\n",
       "    .dataframe tbody tr th:only-of-type {\n",
       "        vertical-align: middle;\n",
       "    }\n",
       "\n",
       "    .dataframe tbody tr th {\n",
       "        vertical-align: top;\n",
       "    }\n",
       "\n",
       "    .dataframe thead th {\n",
       "        text-align: right;\n",
       "    }\n",
       "</style>\n",
       "<table border=\"1\" class=\"dataframe\">\n",
       "  <thead>\n",
       "    <tr style=\"text-align: right;\">\n",
       "      <th></th>\n",
       "      <th>age</th>\n",
       "      <th>bmi</th>\n",
       "      <th>steps</th>\n",
       "      <th>children</th>\n",
       "      <th>insurance_claim</th>\n",
       "      <th>claim_amount</th>\n",
       "      <th>sex_male</th>\n",
       "      <th>smoker_yes</th>\n",
       "      <th>region_northwest</th>\n",
       "      <th>region_southeast</th>\n",
       "      <th>...</th>\n",
       "      <th>fitness_level_Low Active</th>\n",
       "      <th>fitness_level_Sedntary Lifestyle</th>\n",
       "      <th>fitness_level_Somewhat Active</th>\n",
       "      <th>weight_groups_Obese</th>\n",
       "      <th>weight_groups_Over Weight</th>\n",
       "      <th>weight_groups_Under Weight</th>\n",
       "      <th>weight_groups_Very Obese</th>\n",
       "      <th>fitness_group_Low Active</th>\n",
       "      <th>fitness_group_None Active</th>\n",
       "      <th>fitness_group_Somewhat Active</th>\n",
       "    </tr>\n",
       "  </thead>\n",
       "  <tbody>\n",
       "    <tr>\n",
       "      <th>0</th>\n",
       "      <td>36</td>\n",
       "      <td>29.9</td>\n",
       "      <td>8007</td>\n",
       "      <td>0</td>\n",
       "      <td>1</td>\n",
       "      <td>4889.04</td>\n",
       "      <td>0</td>\n",
       "      <td>0</td>\n",
       "      <td>0</td>\n",
       "      <td>1</td>\n",
       "      <td>...</td>\n",
       "      <td>0</td>\n",
       "      <td>0</td>\n",
       "      <td>1</td>\n",
       "      <td>0</td>\n",
       "      <td>1</td>\n",
       "      <td>0</td>\n",
       "      <td>0</td>\n",
       "      <td>0</td>\n",
       "      <td>0</td>\n",
       "      <td>1</td>\n",
       "    </tr>\n",
       "    <tr>\n",
       "      <th>1</th>\n",
       "      <td>38</td>\n",
       "      <td>40.2</td>\n",
       "      <td>4008</td>\n",
       "      <td>0</td>\n",
       "      <td>1</td>\n",
       "      <td>5400.98</td>\n",
       "      <td>0</td>\n",
       "      <td>0</td>\n",
       "      <td>0</td>\n",
       "      <td>1</td>\n",
       "      <td>...</td>\n",
       "      <td>0</td>\n",
       "      <td>1</td>\n",
       "      <td>0</td>\n",
       "      <td>0</td>\n",
       "      <td>0</td>\n",
       "      <td>0</td>\n",
       "      <td>1</td>\n",
       "      <td>0</td>\n",
       "      <td>1</td>\n",
       "      <td>0</td>\n",
       "    </tr>\n",
       "    <tr>\n",
       "      <th>2</th>\n",
       "      <td>41</td>\n",
       "      <td>40.3</td>\n",
       "      <td>3001</td>\n",
       "      <td>0</td>\n",
       "      <td>1</td>\n",
       "      <td>5709.16</td>\n",
       "      <td>1</td>\n",
       "      <td>0</td>\n",
       "      <td>0</td>\n",
       "      <td>1</td>\n",
       "      <td>...</td>\n",
       "      <td>0</td>\n",
       "      <td>1</td>\n",
       "      <td>0</td>\n",
       "      <td>0</td>\n",
       "      <td>0</td>\n",
       "      <td>0</td>\n",
       "      <td>1</td>\n",
       "      <td>0</td>\n",
       "      <td>1</td>\n",
       "      <td>0</td>\n",
       "    </tr>\n",
       "    <tr>\n",
       "      <th>3</th>\n",
       "      <td>40</td>\n",
       "      <td>41.7</td>\n",
       "      <td>4007</td>\n",
       "      <td>0</td>\n",
       "      <td>1</td>\n",
       "      <td>5438.75</td>\n",
       "      <td>1</td>\n",
       "      <td>0</td>\n",
       "      <td>0</td>\n",
       "      <td>1</td>\n",
       "      <td>...</td>\n",
       "      <td>0</td>\n",
       "      <td>1</td>\n",
       "      <td>0</td>\n",
       "      <td>0</td>\n",
       "      <td>0</td>\n",
       "      <td>0</td>\n",
       "      <td>1</td>\n",
       "      <td>0</td>\n",
       "      <td>1</td>\n",
       "      <td>0</td>\n",
       "    </tr>\n",
       "    <tr>\n",
       "      <th>4</th>\n",
       "      <td>39</td>\n",
       "      <td>41.8</td>\n",
       "      <td>3008</td>\n",
       "      <td>0</td>\n",
       "      <td>1</td>\n",
       "      <td>5662.23</td>\n",
       "      <td>0</td>\n",
       "      <td>0</td>\n",
       "      <td>0</td>\n",
       "      <td>1</td>\n",
       "      <td>...</td>\n",
       "      <td>0</td>\n",
       "      <td>1</td>\n",
       "      <td>0</td>\n",
       "      <td>0</td>\n",
       "      <td>0</td>\n",
       "      <td>0</td>\n",
       "      <td>1</td>\n",
       "      <td>0</td>\n",
       "      <td>1</td>\n",
       "      <td>0</td>\n",
       "    </tr>\n",
       "  </tbody>\n",
       "</table>\n",
       "<p>5 rows × 26 columns</p>\n",
       "</div>"
      ],
      "text/plain": [
       "   age   bmi  steps  children  insurance_claim  claim_amount  sex_male  \\\n",
       "0   36  29.9   8007         0                1       4889.04         0   \n",
       "1   38  40.2   4008         0                1       5400.98         0   \n",
       "2   41  40.3   3001         0                1       5709.16         1   \n",
       "3   40  41.7   4007         0                1       5438.75         1   \n",
       "4   39  41.8   3008         0                1       5662.23         0   \n",
       "\n",
       "   smoker_yes  region_northwest  region_southeast  \\\n",
       "0           0                 0                 1   \n",
       "1           0                 0                 1   \n",
       "2           0                 0                 1   \n",
       "3           0                 0                 1   \n",
       "4           0                 0                 1   \n",
       "\n",
       "               ...                fitness_level_Low Active  \\\n",
       "0              ...                                       0   \n",
       "1              ...                                       0   \n",
       "2              ...                                       0   \n",
       "3              ...                                       0   \n",
       "4              ...                                       0   \n",
       "\n",
       "   fitness_level_Sedntary Lifestyle  fitness_level_Somewhat Active  \\\n",
       "0                                 0                              1   \n",
       "1                                 1                              0   \n",
       "2                                 1                              0   \n",
       "3                                 1                              0   \n",
       "4                                 1                              0   \n",
       "\n",
       "   weight_groups_Obese  weight_groups_Over Weight  weight_groups_Under Weight  \\\n",
       "0                    0                          1                           0   \n",
       "1                    0                          0                           0   \n",
       "2                    0                          0                           0   \n",
       "3                    0                          0                           0   \n",
       "4                    0                          0                           0   \n",
       "\n",
       "   weight_groups_Very Obese  fitness_group_Low Active  \\\n",
       "0                         0                         0   \n",
       "1                         1                         0   \n",
       "2                         1                         0   \n",
       "3                         1                         0   \n",
       "4                         1                         0   \n",
       "\n",
       "   fitness_group_None Active  fitness_group_Somewhat Active  \n",
       "0                          0                              1  \n",
       "1                          1                              0  \n",
       "2                          1                              0  \n",
       "3                          1                              0  \n",
       "4                          1                              0  \n",
       "\n",
       "[5 rows x 26 columns]"
      ]
     },
     "execution_count": 19,
     "metadata": {},
     "output_type": "execute_result"
    }
   ],
   "source": [
    "df.head()"
   ]
  },
  {
   "cell_type": "code",
   "execution_count": null,
   "metadata": {},
   "outputs": [],
   "source": []
  },
  {
   "cell_type": "code",
   "execution_count": null,
   "metadata": {},
   "outputs": [],
   "source": []
  },
  {
   "cell_type": "markdown",
   "metadata": {},
   "source": [
    "re-arrange the columns"
   ]
  },
  {
   "cell_type": "code",
   "execution_count": 84,
   "metadata": {},
   "outputs": [
    {
     "data": {
      "text/plain": [
       "Index(['age', 'bmi', 'steps', 'children', 'insurance_claim', 'claim_amount',\n",
       "       'sex_male', 'smoker_yes', 'region_northwest', 'region_southeast',\n",
       "       'region_southwest', 'age_group_adults', 'age_group_seniors',\n",
       "       'age_group_teen', 'age_group_young adults', 'parental_status_Parent',\n",
       "       'fitness_level_Low Active', 'fitness_level_Sedntary Lifestyle',\n",
       "       'fitness_level_Somewhat Active', 'weight_groups_Obese',\n",
       "       'weight_groups_Over Weight', 'weight_groups_Under Weight',\n",
       "       'weight_groups_Very Obese', 'fitness_group_Low Active',\n",
       "       'fitness_group_None Active', 'fitness_group_Somewhat Active'],\n",
       "      dtype='object')"
      ]
     },
     "execution_count": 84,
     "metadata": {},
     "output_type": "execute_result"
    }
   ],
   "source": [
    "df.columns"
   ]
  },
  {
   "cell_type": "code",
   "execution_count": 12,
   "metadata": {},
   "outputs": [],
   "source": [
    "df = df[['sex_female', 'sex_male', 'smoker_no', 'smoker_yes', 'region_northeast',\n",
    "       'region_northwest', 'region_southeast', 'region_southwest','age', 'bmi', 'steps',\n",
    "        'children', 'claim_amount', 'insurance_claim']]"
   ]
  },
  {
   "cell_type": "code",
   "execution_count": 13,
   "metadata": {},
   "outputs": [
    {
     "data": {
      "text/html": [
       "<div>\n",
       "<style scoped>\n",
       "    .dataframe tbody tr th:only-of-type {\n",
       "        vertical-align: middle;\n",
       "    }\n",
       "\n",
       "    .dataframe tbody tr th {\n",
       "        vertical-align: top;\n",
       "    }\n",
       "\n",
       "    .dataframe thead th {\n",
       "        text-align: right;\n",
       "    }\n",
       "</style>\n",
       "<table border=\"1\" class=\"dataframe\">\n",
       "  <thead>\n",
       "    <tr style=\"text-align: right;\">\n",
       "      <th></th>\n",
       "      <th>sex_female</th>\n",
       "      <th>sex_male</th>\n",
       "      <th>smoker_no</th>\n",
       "      <th>smoker_yes</th>\n",
       "      <th>region_northeast</th>\n",
       "      <th>region_northwest</th>\n",
       "      <th>region_southeast</th>\n",
       "      <th>region_southwest</th>\n",
       "      <th>age</th>\n",
       "      <th>bmi</th>\n",
       "      <th>steps</th>\n",
       "      <th>children</th>\n",
       "      <th>claim_amount</th>\n",
       "      <th>insurance_claim</th>\n",
       "    </tr>\n",
       "  </thead>\n",
       "  <tbody>\n",
       "    <tr>\n",
       "      <th>0</th>\n",
       "      <td>1</td>\n",
       "      <td>0</td>\n",
       "      <td>0</td>\n",
       "      <td>1</td>\n",
       "      <td>0</td>\n",
       "      <td>0</td>\n",
       "      <td>0</td>\n",
       "      <td>1</td>\n",
       "      <td>19</td>\n",
       "      <td>27.900</td>\n",
       "      <td>3009</td>\n",
       "      <td>0</td>\n",
       "      <td>16884.9240</td>\n",
       "      <td>1</td>\n",
       "    </tr>\n",
       "    <tr>\n",
       "      <th>1</th>\n",
       "      <td>0</td>\n",
       "      <td>1</td>\n",
       "      <td>1</td>\n",
       "      <td>0</td>\n",
       "      <td>0</td>\n",
       "      <td>0</td>\n",
       "      <td>1</td>\n",
       "      <td>0</td>\n",
       "      <td>18</td>\n",
       "      <td>33.770</td>\n",
       "      <td>3008</td>\n",
       "      <td>1</td>\n",
       "      <td>1725.5523</td>\n",
       "      <td>1</td>\n",
       "    </tr>\n",
       "    <tr>\n",
       "      <th>2</th>\n",
       "      <td>0</td>\n",
       "      <td>1</td>\n",
       "      <td>1</td>\n",
       "      <td>0</td>\n",
       "      <td>0</td>\n",
       "      <td>0</td>\n",
       "      <td>1</td>\n",
       "      <td>0</td>\n",
       "      <td>28</td>\n",
       "      <td>33.000</td>\n",
       "      <td>3009</td>\n",
       "      <td>3</td>\n",
       "      <td>0.0000</td>\n",
       "      <td>0</td>\n",
       "    </tr>\n",
       "    <tr>\n",
       "      <th>3</th>\n",
       "      <td>0</td>\n",
       "      <td>1</td>\n",
       "      <td>1</td>\n",
       "      <td>0</td>\n",
       "      <td>0</td>\n",
       "      <td>1</td>\n",
       "      <td>0</td>\n",
       "      <td>0</td>\n",
       "      <td>33</td>\n",
       "      <td>22.705</td>\n",
       "      <td>10009</td>\n",
       "      <td>0</td>\n",
       "      <td>0.0000</td>\n",
       "      <td>0</td>\n",
       "    </tr>\n",
       "    <tr>\n",
       "      <th>4</th>\n",
       "      <td>0</td>\n",
       "      <td>1</td>\n",
       "      <td>1</td>\n",
       "      <td>0</td>\n",
       "      <td>0</td>\n",
       "      <td>1</td>\n",
       "      <td>0</td>\n",
       "      <td>0</td>\n",
       "      <td>32</td>\n",
       "      <td>28.880</td>\n",
       "      <td>8010</td>\n",
       "      <td>0</td>\n",
       "      <td>3866.8552</td>\n",
       "      <td>1</td>\n",
       "    </tr>\n",
       "  </tbody>\n",
       "</table>\n",
       "</div>"
      ],
      "text/plain": [
       "   sex_female  sex_male  smoker_no  smoker_yes  region_northeast  \\\n",
       "0           1         0          0           1                 0   \n",
       "1           0         1          1           0                 0   \n",
       "2           0         1          1           0                 0   \n",
       "3           0         1          1           0                 0   \n",
       "4           0         1          1           0                 0   \n",
       "\n",
       "   region_northwest  region_southeast  region_southwest  age     bmi  steps  \\\n",
       "0                 0                 0                 1   19  27.900   3009   \n",
       "1                 0                 1                 0   18  33.770   3008   \n",
       "2                 0                 1                 0   28  33.000   3009   \n",
       "3                 1                 0                 0   33  22.705  10009   \n",
       "4                 1                 0                 0   32  28.880   8010   \n",
       "\n",
       "   children  claim_amount  insurance_claim  \n",
       "0         0    16884.9240                1  \n",
       "1         1     1725.5523                1  \n",
       "2         3        0.0000                0  \n",
       "3         0        0.0000                0  \n",
       "4         0     3866.8552                1  "
      ]
     },
     "execution_count": 13,
     "metadata": {},
     "output_type": "execute_result"
    }
   ],
   "source": [
    "df.head()"
   ]
  },
  {
   "cell_type": "code",
   "execution_count": 85,
   "metadata": {},
   "outputs": [
    {
     "name": "stdout",
     "output_type": "stream",
     "text": [
      "<class 'pandas.core.frame.DataFrame'>\n",
      "RangeIndex: 1338 entries, 0 to 1337\n",
      "Data columns (total 26 columns):\n",
      "age                                 1338 non-null int64\n",
      "bmi                                 1338 non-null float64\n",
      "steps                               1338 non-null int64\n",
      "children                            1338 non-null int64\n",
      "insurance_claim                     1338 non-null int64\n",
      "claim_amount                        1338 non-null float64\n",
      "sex_male                            1338 non-null uint8\n",
      "smoker_yes                          1338 non-null uint8\n",
      "region_northwest                    1338 non-null uint8\n",
      "region_southeast                    1338 non-null uint8\n",
      "region_southwest                    1338 non-null uint8\n",
      "age_group_adults                    1338 non-null uint8\n",
      "age_group_seniors                   1338 non-null uint8\n",
      "age_group_teen                      1338 non-null uint8\n",
      "age_group_young adults              1338 non-null uint8\n",
      "parental_status_Parent              1338 non-null uint8\n",
      "fitness_level_Low Active            1338 non-null uint8\n",
      "fitness_level_Sedntary Lifestyle    1338 non-null uint8\n",
      "fitness_level_Somewhat Active       1338 non-null uint8\n",
      "weight_groups_Obese                 1338 non-null uint8\n",
      "weight_groups_Over Weight           1338 non-null uint8\n",
      "weight_groups_Under Weight          1338 non-null uint8\n",
      "weight_groups_Very Obese            1338 non-null uint8\n",
      "fitness_group_Low Active            1338 non-null uint8\n",
      "fitness_group_None Active           1338 non-null uint8\n",
      "fitness_group_Somewhat Active       1338 non-null uint8\n",
      "dtypes: float64(2), int64(4), uint8(20)\n",
      "memory usage: 88.9 KB\n"
     ]
    }
   ],
   "source": [
    "df.info()"
   ]
  },
  {
   "cell_type": "markdown",
   "metadata": {},
   "source": [
    "# create target variables"
   ]
  },
  {
   "cell_type": "code",
   "execution_count": 20,
   "metadata": {},
   "outputs": [],
   "source": [
    "#targets \n",
    "y =  df['insurance_claim']\n",
    "\n",
    "#features \n",
    "X = df.drop(['insurance_claim','claim_amount'], axis=1)"
   ]
  },
  {
   "cell_type": "markdown",
   "metadata": {},
   "source": [
    "## scale some columns"
   ]
  },
  {
   "cell_type": "code",
   "execution_count": 21,
   "metadata": {},
   "outputs": [],
   "source": [
    "from sklearn.preprocessing import StandardScaler\n",
    "from sklearn.base import BaseEstimator, TransformerMixin\n",
    "\n",
    "class CustomScaler(BaseEstimator,TransformerMixin): \n",
    "    \n",
    "    def __init__(self,columns,copy=True,with_mean=True,with_std=True):\n",
    "        self.scaler = StandardScaler(copy,with_mean,with_std)\n",
    "        self.columns = columns\n",
    "        self.mean_ = None\n",
    "        self.var_ = None\n",
    "\n",
    "    def fit(self, X, y=None):\n",
    "        self.scaler.fit(X[self.columns], y)\n",
    "        self.mean_ = np.array(np.mean(X[self.columns]))\n",
    "        self.var_ = np.array(np.var(X[self.columns]))\n",
    "        return self\n",
    "\n",
    "    def transform(self, X, y=None, copy=None):\n",
    "        init_col_order = X.columns\n",
    "        X_scaled = pd.DataFrame(self.scaler.transform(X[self.columns]), columns=self.columns)\n",
    "        X_not_scaled = X.loc[:,~X.columns.isin(self.columns)]\n",
    "        return pd.concat([X_not_scaled, X_scaled], axis=1)[init_col_order]\n",
    "    "
   ]
  },
  {
   "cell_type": "markdown",
   "metadata": {},
   "source": [
    "select the numerical column as the columns to scale"
   ]
  },
  {
   "cell_type": "code",
   "execution_count": 22,
   "metadata": {},
   "outputs": [],
   "source": [
    "columns_to_scale = ['age','children', 'bmi', 'steps']"
   ]
  },
  {
   "cell_type": "code",
   "execution_count": 23,
   "metadata": {},
   "outputs": [],
   "source": [
    "scaler = CustomScaler(columns_to_scale)"
   ]
  },
  {
   "cell_type": "code",
   "execution_count": 24,
   "metadata": {},
   "outputs": [
    {
     "data": {
      "text/plain": [
       "CustomScaler(columns=['age', 'children', 'bmi', 'steps'], copy=None,\n",
       "       with_mean=None, with_std=None)"
      ]
     },
     "execution_count": 24,
     "metadata": {},
     "output_type": "execute_result"
    }
   ],
   "source": [
    "scaler"
   ]
  },
  {
   "cell_type": "code",
   "execution_count": 25,
   "metadata": {},
   "outputs": [
    {
     "name": "stderr",
     "output_type": "stream",
     "text": [
      "C:\\Users\\student-cpt-321\\anaconda3\\lib\\site-packages\\sklearn\\preprocessing\\data.py:625: DataConversionWarning: Data with input dtype int64, float64 were all converted to float64 by StandardScaler.\n",
      "  return self.partial_fit(X, y)\n"
     ]
    },
    {
     "data": {
      "text/plain": [
       "CustomScaler(columns=['age', 'children', 'bmi', 'steps'], copy=None,\n",
       "       with_mean=None, with_std=None)"
      ]
     },
     "execution_count": 25,
     "metadata": {},
     "output_type": "execute_result"
    }
   ],
   "source": [
    "scaler.fit(X)"
   ]
  },
  {
   "cell_type": "code",
   "execution_count": 26,
   "metadata": {},
   "outputs": [
    {
     "name": "stderr",
     "output_type": "stream",
     "text": [
      "C:\\Users\\student-cpt-321\\anaconda3\\lib\\site-packages\\ipykernel_launcher.py:20: DataConversionWarning: Data with input dtype int64, float64 were all converted to float64 by StandardScaler.\n"
     ]
    }
   ],
   "source": [
    "X = scaler.transform(X)"
   ]
  },
  {
   "cell_type": "code",
   "execution_count": 27,
   "metadata": {},
   "outputs": [
    {
     "data": {
      "text/html": [
       "<div>\n",
       "<style scoped>\n",
       "    .dataframe tbody tr th:only-of-type {\n",
       "        vertical-align: middle;\n",
       "    }\n",
       "\n",
       "    .dataframe tbody tr th {\n",
       "        vertical-align: top;\n",
       "    }\n",
       "\n",
       "    .dataframe thead th {\n",
       "        text-align: right;\n",
       "    }\n",
       "</style>\n",
       "<table border=\"1\" class=\"dataframe\">\n",
       "  <thead>\n",
       "    <tr style=\"text-align: right;\">\n",
       "      <th></th>\n",
       "      <th>age</th>\n",
       "      <th>bmi</th>\n",
       "      <th>steps</th>\n",
       "      <th>children</th>\n",
       "      <th>sex_male</th>\n",
       "      <th>smoker_yes</th>\n",
       "      <th>region_northwest</th>\n",
       "      <th>region_southeast</th>\n",
       "      <th>region_southwest</th>\n",
       "      <th>age_group_adults</th>\n",
       "      <th>...</th>\n",
       "      <th>fitness_level_Low Active</th>\n",
       "      <th>fitness_level_Sedntary Lifestyle</th>\n",
       "      <th>fitness_level_Somewhat Active</th>\n",
       "      <th>weight_groups_Obese</th>\n",
       "      <th>weight_groups_Over Weight</th>\n",
       "      <th>weight_groups_Under Weight</th>\n",
       "      <th>weight_groups_Very Obese</th>\n",
       "      <th>fitness_group_Low Active</th>\n",
       "      <th>fitness_group_None Active</th>\n",
       "      <th>fitness_group_Somewhat Active</th>\n",
       "    </tr>\n",
       "  </thead>\n",
       "  <tbody>\n",
       "    <tr>\n",
       "      <th>0</th>\n",
       "      <td>-0.228344</td>\n",
       "      <td>-0.125567</td>\n",
       "      <td>1.092000</td>\n",
       "      <td>-0.908614</td>\n",
       "      <td>0</td>\n",
       "      <td>0</td>\n",
       "      <td>0</td>\n",
       "      <td>1</td>\n",
       "      <td>0</td>\n",
       "      <td>1</td>\n",
       "      <td>...</td>\n",
       "      <td>0</td>\n",
       "      <td>0</td>\n",
       "      <td>1</td>\n",
       "      <td>0</td>\n",
       "      <td>1</td>\n",
       "      <td>0</td>\n",
       "      <td>0</td>\n",
       "      <td>0</td>\n",
       "      <td>0</td>\n",
       "      <td>1</td>\n",
       "    </tr>\n",
       "    <tr>\n",
       "      <th>1</th>\n",
       "      <td>-0.085942</td>\n",
       "      <td>1.564037</td>\n",
       "      <td>-0.538431</td>\n",
       "      <td>-0.908614</td>\n",
       "      <td>0</td>\n",
       "      <td>0</td>\n",
       "      <td>0</td>\n",
       "      <td>1</td>\n",
       "      <td>0</td>\n",
       "      <td>1</td>\n",
       "      <td>...</td>\n",
       "      <td>0</td>\n",
       "      <td>1</td>\n",
       "      <td>0</td>\n",
       "      <td>0</td>\n",
       "      <td>0</td>\n",
       "      <td>0</td>\n",
       "      <td>1</td>\n",
       "      <td>0</td>\n",
       "      <td>1</td>\n",
       "      <td>0</td>\n",
       "    </tr>\n",
       "    <tr>\n",
       "      <th>2</th>\n",
       "      <td>0.127662</td>\n",
       "      <td>1.580441</td>\n",
       "      <td>-0.948994</td>\n",
       "      <td>-0.908614</td>\n",
       "      <td>1</td>\n",
       "      <td>0</td>\n",
       "      <td>0</td>\n",
       "      <td>1</td>\n",
       "      <td>0</td>\n",
       "      <td>1</td>\n",
       "      <td>...</td>\n",
       "      <td>0</td>\n",
       "      <td>1</td>\n",
       "      <td>0</td>\n",
       "      <td>0</td>\n",
       "      <td>0</td>\n",
       "      <td>0</td>\n",
       "      <td>1</td>\n",
       "      <td>0</td>\n",
       "      <td>1</td>\n",
       "      <td>0</td>\n",
       "    </tr>\n",
       "    <tr>\n",
       "      <th>3</th>\n",
       "      <td>0.056461</td>\n",
       "      <td>1.810096</td>\n",
       "      <td>-0.538839</td>\n",
       "      <td>-0.908614</td>\n",
       "      <td>1</td>\n",
       "      <td>0</td>\n",
       "      <td>0</td>\n",
       "      <td>1</td>\n",
       "      <td>0</td>\n",
       "      <td>1</td>\n",
       "      <td>...</td>\n",
       "      <td>0</td>\n",
       "      <td>1</td>\n",
       "      <td>0</td>\n",
       "      <td>0</td>\n",
       "      <td>0</td>\n",
       "      <td>0</td>\n",
       "      <td>1</td>\n",
       "      <td>0</td>\n",
       "      <td>1</td>\n",
       "      <td>0</td>\n",
       "    </tr>\n",
       "    <tr>\n",
       "      <th>4</th>\n",
       "      <td>-0.014740</td>\n",
       "      <td>1.826500</td>\n",
       "      <td>-0.946140</td>\n",
       "      <td>-0.908614</td>\n",
       "      <td>0</td>\n",
       "      <td>0</td>\n",
       "      <td>0</td>\n",
       "      <td>1</td>\n",
       "      <td>0</td>\n",
       "      <td>1</td>\n",
       "      <td>...</td>\n",
       "      <td>0</td>\n",
       "      <td>1</td>\n",
       "      <td>0</td>\n",
       "      <td>0</td>\n",
       "      <td>0</td>\n",
       "      <td>0</td>\n",
       "      <td>1</td>\n",
       "      <td>0</td>\n",
       "      <td>1</td>\n",
       "      <td>0</td>\n",
       "    </tr>\n",
       "  </tbody>\n",
       "</table>\n",
       "<p>5 rows × 24 columns</p>\n",
       "</div>"
      ],
      "text/plain": [
       "        age       bmi     steps  children  sex_male  smoker_yes  \\\n",
       "0 -0.228344 -0.125567  1.092000 -0.908614         0           0   \n",
       "1 -0.085942  1.564037 -0.538431 -0.908614         0           0   \n",
       "2  0.127662  1.580441 -0.948994 -0.908614         1           0   \n",
       "3  0.056461  1.810096 -0.538839 -0.908614         1           0   \n",
       "4 -0.014740  1.826500 -0.946140 -0.908614         0           0   \n",
       "\n",
       "   region_northwest  region_southeast  region_southwest  age_group_adults  \\\n",
       "0                 0                 1                 0                 1   \n",
       "1                 0                 1                 0                 1   \n",
       "2                 0                 1                 0                 1   \n",
       "3                 0                 1                 0                 1   \n",
       "4                 0                 1                 0                 1   \n",
       "\n",
       "               ...                fitness_level_Low Active  \\\n",
       "0              ...                                       0   \n",
       "1              ...                                       0   \n",
       "2              ...                                       0   \n",
       "3              ...                                       0   \n",
       "4              ...                                       0   \n",
       "\n",
       "   fitness_level_Sedntary Lifestyle  fitness_level_Somewhat Active  \\\n",
       "0                                 0                              1   \n",
       "1                                 1                              0   \n",
       "2                                 1                              0   \n",
       "3                                 1                              0   \n",
       "4                                 1                              0   \n",
       "\n",
       "   weight_groups_Obese  weight_groups_Over Weight  weight_groups_Under Weight  \\\n",
       "0                    0                          1                           0   \n",
       "1                    0                          0                           0   \n",
       "2                    0                          0                           0   \n",
       "3                    0                          0                           0   \n",
       "4                    0                          0                           0   \n",
       "\n",
       "   weight_groups_Very Obese  fitness_group_Low Active  \\\n",
       "0                         0                         0   \n",
       "1                         1                         0   \n",
       "2                         1                         0   \n",
       "3                         1                         0   \n",
       "4                         1                         0   \n",
       "\n",
       "   fitness_group_None Active  fitness_group_Somewhat Active  \n",
       "0                          0                              1  \n",
       "1                          1                              0  \n",
       "2                          1                              0  \n",
       "3                          1                              0  \n",
       "4                          1                              0  \n",
       "\n",
       "[5 rows x 24 columns]"
      ]
     },
     "execution_count": 27,
     "metadata": {},
     "output_type": "execute_result"
    }
   ],
   "source": [
    "X.head()"
   ]
  },
  {
   "cell_type": "markdown",
   "metadata": {},
   "source": [
    "# split the data to train and test data I will use 80:20 model"
   ]
  },
  {
   "cell_type": "code",
   "execution_count": 28,
   "metadata": {},
   "outputs": [],
   "source": [
    "from sklearn.model_selection import train_test_split\n",
    "X_train, X_test, y_train, y_test = train_test_split(X, y, test_size=0.2, random_state=100)"
   ]
  },
  {
   "cell_type": "markdown",
   "metadata": {},
   "source": [
    "# Train the model"
   ]
  },
  {
   "cell_type": "code",
   "execution_count": 29,
   "metadata": {},
   "outputs": [],
   "source": [
    "from sklearn.linear_model import LogisticRegression "
   ]
  },
  {
   "cell_type": "markdown",
   "metadata": {},
   "source": [
    "creating the model instance"
   ]
  },
  {
   "cell_type": "code",
   "execution_count": 30,
   "metadata": {},
   "outputs": [],
   "source": [
    "model  = LogisticRegression()"
   ]
  },
  {
   "cell_type": "markdown",
   "metadata": {},
   "source": [
    "train the model"
   ]
  },
  {
   "cell_type": "code",
   "execution_count": 31,
   "metadata": {},
   "outputs": [
    {
     "name": "stderr",
     "output_type": "stream",
     "text": [
      "C:\\Users\\student-cpt-321\\anaconda3\\lib\\site-packages\\sklearn\\linear_model\\logistic.py:433: FutureWarning: Default solver will be changed to 'lbfgs' in 0.22. Specify a solver to silence this warning.\n",
      "  FutureWarning)\n"
     ]
    },
    {
     "data": {
      "text/plain": [
       "LogisticRegression(C=1.0, class_weight=None, dual=False, fit_intercept=True,\n",
       "          intercept_scaling=1, max_iter=100, multi_class='warn',\n",
       "          n_jobs=None, penalty='l2', random_state=None, solver='warn',\n",
       "          tol=0.0001, verbose=0, warm_start=False)"
      ]
     },
     "execution_count": 31,
     "metadata": {},
     "output_type": "execute_result"
    }
   ],
   "source": [
    "model.fit(X_train,y_train)"
   ]
  },
  {
   "cell_type": "markdown",
   "metadata": {},
   "source": [
    "# Extracting parameters from the model"
   ]
  },
  {
   "cell_type": "code",
   "execution_count": 32,
   "metadata": {},
   "outputs": [
    {
     "data": {
      "text/plain": [
       "0.8955223880597015"
      ]
     },
     "execution_count": 32,
     "metadata": {},
     "output_type": "execute_result"
    }
   ],
   "source": [
    "#train accuracy can't be used to conclude on model accuracy bu I just want to check how well it predicts during training\n",
    "model.score(X_test,y_test)"
   ]
  },
  {
   "cell_type": "code",
   "execution_count": 33,
   "metadata": {},
   "outputs": [
    {
     "data": {
      "text/plain": [
       "array([-0.05342405])"
      ]
     },
     "execution_count": 33,
     "metadata": {},
     "output_type": "execute_result"
    }
   ],
   "source": [
    "model.intercept_"
   ]
  },
  {
   "cell_type": "code",
   "execution_count": 34,
   "metadata": {},
   "outputs": [
    {
     "data": {
      "text/plain": [
       "array([[ 0.64488755,  1.49249412,  0.18749961, -0.93537184, -0.10179644,\n",
       "         4.14662267, -0.48015783, -0.36322934, -0.32001608,  0.14420463,\n",
       "        -0.56298664,  0.16144147, -0.89212725, -1.96237009, -0.41794073,\n",
       "         0.14050181,  0.36509758,  1.85394456,  1.46770993,  2.48755474,\n",
       "         0.42677642, -0.41794073,  0.14050181,  0.36509758]])"
      ]
     },
     "execution_count": 34,
     "metadata": {},
     "output_type": "execute_result"
    }
   ],
   "source": [
    "model.coef_"
   ]
  },
  {
   "cell_type": "markdown",
   "metadata": {},
   "source": [
    "I will create a summary table wich will help us weigh the features impacts"
   ]
  },
  {
   "cell_type": "code",
   "execution_count": 35,
   "metadata": {},
   "outputs": [
    {
     "data": {
      "text/plain": [
       "Index(['age', 'bmi', 'steps', 'children', 'sex_male', 'smoker_yes',\n",
       "       'region_northwest', 'region_southeast', 'region_southwest',\n",
       "       'age_group_adults', 'age_group_seniors', 'age_group_teen',\n",
       "       'age_group_young adults', 'parental_status_Parent',\n",
       "       'fitness_level_Low Active', 'fitness_level_Sedntary Lifestyle',\n",
       "       'fitness_level_Somewhat Active', 'weight_groups_Obese',\n",
       "       'weight_groups_Over Weight', 'weight_groups_Under Weight',\n",
       "       'weight_groups_Very Obese', 'fitness_group_Low Active',\n",
       "       'fitness_group_None Active', 'fitness_group_Somewhat Active'],\n",
       "      dtype='object')"
      ]
     },
     "execution_count": 35,
     "metadata": {},
     "output_type": "execute_result"
    }
   ],
   "source": [
    "X.columns"
   ]
  },
  {
   "cell_type": "code",
   "execution_count": 36,
   "metadata": {},
   "outputs": [],
   "source": [
    "# we will append this list on the on the summary table it will contain all features used for prediction \n",
    "features = ['age', 'bmi', 'steps', 'children', 'sex_male', 'smoker_yes',\n",
    "       'region_northwest', 'region_southeast', 'region_southwest',\n",
    "       'age_group_adults', 'age_group_seniors', 'age_group_teen',\n",
    "       'age_group_young adults', 'parental_status_Parent',\n",
    "       'fitness_level_Low Active', 'fitness_level_Sedntary Lifestyle',\n",
    "       'fitness_level_Somewhat Active', 'weight_groups_Obese',\n",
    "       'weight_groups_Over Weight', 'weight_groups_Under Weight',\n",
    "       'weight_groups_Very Obese', 'fitness_group_Low Active',\n",
    "       'fitness_group_None Active', 'fitness_group_Somewhat Active']\n",
    "#now I create a DataFrame which contains the featues\n",
    "summary_table = pd.DataFrame(columns = ['Features'], data=features)\n",
    "#at this stage we just add more columns with statistical summary\n",
    "summary_table['Coefffient'] = np.transpose(model.coef_)"
   ]
  },
  {
   "cell_type": "code",
   "execution_count": 37,
   "metadata": {},
   "outputs": [
    {
     "data": {
      "text/html": [
       "<div>\n",
       "<style scoped>\n",
       "    .dataframe tbody tr th:only-of-type {\n",
       "        vertical-align: middle;\n",
       "    }\n",
       "\n",
       "    .dataframe tbody tr th {\n",
       "        vertical-align: top;\n",
       "    }\n",
       "\n",
       "    .dataframe thead th {\n",
       "        text-align: right;\n",
       "    }\n",
       "</style>\n",
       "<table border=\"1\" class=\"dataframe\">\n",
       "  <thead>\n",
       "    <tr style=\"text-align: right;\">\n",
       "      <th></th>\n",
       "      <th>Features</th>\n",
       "      <th>Coefffient</th>\n",
       "    </tr>\n",
       "  </thead>\n",
       "  <tbody>\n",
       "    <tr>\n",
       "      <th>0</th>\n",
       "      <td>age</td>\n",
       "      <td>0.644888</td>\n",
       "    </tr>\n",
       "    <tr>\n",
       "      <th>1</th>\n",
       "      <td>bmi</td>\n",
       "      <td>1.492494</td>\n",
       "    </tr>\n",
       "    <tr>\n",
       "      <th>2</th>\n",
       "      <td>steps</td>\n",
       "      <td>0.187500</td>\n",
       "    </tr>\n",
       "    <tr>\n",
       "      <th>3</th>\n",
       "      <td>children</td>\n",
       "      <td>-0.935372</td>\n",
       "    </tr>\n",
       "    <tr>\n",
       "      <th>4</th>\n",
       "      <td>sex_male</td>\n",
       "      <td>-0.101796</td>\n",
       "    </tr>\n",
       "    <tr>\n",
       "      <th>5</th>\n",
       "      <td>smoker_yes</td>\n",
       "      <td>4.146623</td>\n",
       "    </tr>\n",
       "    <tr>\n",
       "      <th>6</th>\n",
       "      <td>region_northwest</td>\n",
       "      <td>-0.480158</td>\n",
       "    </tr>\n",
       "    <tr>\n",
       "      <th>7</th>\n",
       "      <td>region_southeast</td>\n",
       "      <td>-0.363229</td>\n",
       "    </tr>\n",
       "    <tr>\n",
       "      <th>8</th>\n",
       "      <td>region_southwest</td>\n",
       "      <td>-0.320016</td>\n",
       "    </tr>\n",
       "    <tr>\n",
       "      <th>9</th>\n",
       "      <td>age_group_adults</td>\n",
       "      <td>0.144205</td>\n",
       "    </tr>\n",
       "    <tr>\n",
       "      <th>10</th>\n",
       "      <td>age_group_seniors</td>\n",
       "      <td>-0.562987</td>\n",
       "    </tr>\n",
       "    <tr>\n",
       "      <th>11</th>\n",
       "      <td>age_group_teen</td>\n",
       "      <td>0.161441</td>\n",
       "    </tr>\n",
       "    <tr>\n",
       "      <th>12</th>\n",
       "      <td>age_group_young adults</td>\n",
       "      <td>-0.892127</td>\n",
       "    </tr>\n",
       "    <tr>\n",
       "      <th>13</th>\n",
       "      <td>parental_status_Parent</td>\n",
       "      <td>-1.962370</td>\n",
       "    </tr>\n",
       "    <tr>\n",
       "      <th>14</th>\n",
       "      <td>fitness_level_Low Active</td>\n",
       "      <td>-0.417941</td>\n",
       "    </tr>\n",
       "    <tr>\n",
       "      <th>15</th>\n",
       "      <td>fitness_level_Sedntary Lifestyle</td>\n",
       "      <td>0.140502</td>\n",
       "    </tr>\n",
       "    <tr>\n",
       "      <th>16</th>\n",
       "      <td>fitness_level_Somewhat Active</td>\n",
       "      <td>0.365098</td>\n",
       "    </tr>\n",
       "    <tr>\n",
       "      <th>17</th>\n",
       "      <td>weight_groups_Obese</td>\n",
       "      <td>1.853945</td>\n",
       "    </tr>\n",
       "    <tr>\n",
       "      <th>18</th>\n",
       "      <td>weight_groups_Over Weight</td>\n",
       "      <td>1.467710</td>\n",
       "    </tr>\n",
       "    <tr>\n",
       "      <th>19</th>\n",
       "      <td>weight_groups_Under Weight</td>\n",
       "      <td>2.487555</td>\n",
       "    </tr>\n",
       "    <tr>\n",
       "      <th>20</th>\n",
       "      <td>weight_groups_Very Obese</td>\n",
       "      <td>0.426776</td>\n",
       "    </tr>\n",
       "    <tr>\n",
       "      <th>21</th>\n",
       "      <td>fitness_group_Low Active</td>\n",
       "      <td>-0.417941</td>\n",
       "    </tr>\n",
       "    <tr>\n",
       "      <th>22</th>\n",
       "      <td>fitness_group_None Active</td>\n",
       "      <td>0.140502</td>\n",
       "    </tr>\n",
       "    <tr>\n",
       "      <th>23</th>\n",
       "      <td>fitness_group_Somewhat Active</td>\n",
       "      <td>0.365098</td>\n",
       "    </tr>\n",
       "  </tbody>\n",
       "</table>\n",
       "</div>"
      ],
      "text/plain": [
       "                            Features  Coefffient\n",
       "0                                age    0.644888\n",
       "1                                bmi    1.492494\n",
       "2                              steps    0.187500\n",
       "3                           children   -0.935372\n",
       "4                           sex_male   -0.101796\n",
       "5                         smoker_yes    4.146623\n",
       "6                   region_northwest   -0.480158\n",
       "7                   region_southeast   -0.363229\n",
       "8                   region_southwest   -0.320016\n",
       "9                   age_group_adults    0.144205\n",
       "10                 age_group_seniors   -0.562987\n",
       "11                    age_group_teen    0.161441\n",
       "12            age_group_young adults   -0.892127\n",
       "13            parental_status_Parent   -1.962370\n",
       "14          fitness_level_Low Active   -0.417941\n",
       "15  fitness_level_Sedntary Lifestyle    0.140502\n",
       "16     fitness_level_Somewhat Active    0.365098\n",
       "17               weight_groups_Obese    1.853945\n",
       "18         weight_groups_Over Weight    1.467710\n",
       "19        weight_groups_Under Weight    2.487555\n",
       "20          weight_groups_Very Obese    0.426776\n",
       "21          fitness_group_Low Active   -0.417941\n",
       "22         fitness_group_None Active    0.140502\n",
       "23     fitness_group_Somewhat Active    0.365098"
      ]
     },
     "execution_count": 37,
     "metadata": {},
     "output_type": "execute_result"
    }
   ],
   "source": [
    "summary_table"
   ]
  },
  {
   "cell_type": "markdown",
   "metadata": {},
   "source": [
    "create 1 extra row where I will pu the intercept"
   ]
  },
  {
   "cell_type": "code",
   "execution_count": 38,
   "metadata": {},
   "outputs": [
    {
     "data": {
      "text/html": [
       "<div>\n",
       "<style scoped>\n",
       "    .dataframe tbody tr th:only-of-type {\n",
       "        vertical-align: middle;\n",
       "    }\n",
       "\n",
       "    .dataframe tbody tr th {\n",
       "        vertical-align: top;\n",
       "    }\n",
       "\n",
       "    .dataframe thead th {\n",
       "        text-align: right;\n",
       "    }\n",
       "</style>\n",
       "<table border=\"1\" class=\"dataframe\">\n",
       "  <thead>\n",
       "    <tr style=\"text-align: right;\">\n",
       "      <th></th>\n",
       "      <th>Features</th>\n",
       "      <th>Coefffient</th>\n",
       "    </tr>\n",
       "  </thead>\n",
       "  <tbody>\n",
       "    <tr>\n",
       "      <th>0</th>\n",
       "      <td>Intercept</td>\n",
       "      <td>-0.053424</td>\n",
       "    </tr>\n",
       "    <tr>\n",
       "      <th>1</th>\n",
       "      <td>age</td>\n",
       "      <td>0.644888</td>\n",
       "    </tr>\n",
       "    <tr>\n",
       "      <th>2</th>\n",
       "      <td>bmi</td>\n",
       "      <td>1.492494</td>\n",
       "    </tr>\n",
       "    <tr>\n",
       "      <th>3</th>\n",
       "      <td>steps</td>\n",
       "      <td>0.187500</td>\n",
       "    </tr>\n",
       "    <tr>\n",
       "      <th>4</th>\n",
       "      <td>children</td>\n",
       "      <td>-0.935372</td>\n",
       "    </tr>\n",
       "    <tr>\n",
       "      <th>5</th>\n",
       "      <td>sex_male</td>\n",
       "      <td>-0.101796</td>\n",
       "    </tr>\n",
       "    <tr>\n",
       "      <th>6</th>\n",
       "      <td>smoker_yes</td>\n",
       "      <td>4.146623</td>\n",
       "    </tr>\n",
       "    <tr>\n",
       "      <th>7</th>\n",
       "      <td>region_northwest</td>\n",
       "      <td>-0.480158</td>\n",
       "    </tr>\n",
       "    <tr>\n",
       "      <th>8</th>\n",
       "      <td>region_southeast</td>\n",
       "      <td>-0.363229</td>\n",
       "    </tr>\n",
       "    <tr>\n",
       "      <th>9</th>\n",
       "      <td>region_southwest</td>\n",
       "      <td>-0.320016</td>\n",
       "    </tr>\n",
       "    <tr>\n",
       "      <th>10</th>\n",
       "      <td>age_group_adults</td>\n",
       "      <td>0.144205</td>\n",
       "    </tr>\n",
       "    <tr>\n",
       "      <th>11</th>\n",
       "      <td>age_group_seniors</td>\n",
       "      <td>-0.562987</td>\n",
       "    </tr>\n",
       "    <tr>\n",
       "      <th>12</th>\n",
       "      <td>age_group_teen</td>\n",
       "      <td>0.161441</td>\n",
       "    </tr>\n",
       "    <tr>\n",
       "      <th>13</th>\n",
       "      <td>age_group_young adults</td>\n",
       "      <td>-0.892127</td>\n",
       "    </tr>\n",
       "    <tr>\n",
       "      <th>14</th>\n",
       "      <td>parental_status_Parent</td>\n",
       "      <td>-1.962370</td>\n",
       "    </tr>\n",
       "    <tr>\n",
       "      <th>15</th>\n",
       "      <td>fitness_level_Low Active</td>\n",
       "      <td>-0.417941</td>\n",
       "    </tr>\n",
       "    <tr>\n",
       "      <th>16</th>\n",
       "      <td>fitness_level_Sedntary Lifestyle</td>\n",
       "      <td>0.140502</td>\n",
       "    </tr>\n",
       "    <tr>\n",
       "      <th>17</th>\n",
       "      <td>fitness_level_Somewhat Active</td>\n",
       "      <td>0.365098</td>\n",
       "    </tr>\n",
       "    <tr>\n",
       "      <th>18</th>\n",
       "      <td>weight_groups_Obese</td>\n",
       "      <td>1.853945</td>\n",
       "    </tr>\n",
       "    <tr>\n",
       "      <th>19</th>\n",
       "      <td>weight_groups_Over Weight</td>\n",
       "      <td>1.467710</td>\n",
       "    </tr>\n",
       "    <tr>\n",
       "      <th>20</th>\n",
       "      <td>weight_groups_Under Weight</td>\n",
       "      <td>2.487555</td>\n",
       "    </tr>\n",
       "    <tr>\n",
       "      <th>21</th>\n",
       "      <td>weight_groups_Very Obese</td>\n",
       "      <td>0.426776</td>\n",
       "    </tr>\n",
       "    <tr>\n",
       "      <th>22</th>\n",
       "      <td>fitness_group_Low Active</td>\n",
       "      <td>-0.417941</td>\n",
       "    </tr>\n",
       "    <tr>\n",
       "      <th>23</th>\n",
       "      <td>fitness_group_None Active</td>\n",
       "      <td>0.140502</td>\n",
       "    </tr>\n",
       "    <tr>\n",
       "      <th>24</th>\n",
       "      <td>fitness_group_Somewhat Active</td>\n",
       "      <td>0.365098</td>\n",
       "    </tr>\n",
       "  </tbody>\n",
       "</table>\n",
       "</div>"
      ],
      "text/plain": [
       "                            Features  Coefffient\n",
       "0                          Intercept   -0.053424\n",
       "1                                age    0.644888\n",
       "2                                bmi    1.492494\n",
       "3                              steps    0.187500\n",
       "4                           children   -0.935372\n",
       "5                           sex_male   -0.101796\n",
       "6                         smoker_yes    4.146623\n",
       "7                   region_northwest   -0.480158\n",
       "8                   region_southeast   -0.363229\n",
       "9                   region_southwest   -0.320016\n",
       "10                  age_group_adults    0.144205\n",
       "11                 age_group_seniors   -0.562987\n",
       "12                    age_group_teen    0.161441\n",
       "13            age_group_young adults   -0.892127\n",
       "14            parental_status_Parent   -1.962370\n",
       "15          fitness_level_Low Active   -0.417941\n",
       "16  fitness_level_Sedntary Lifestyle    0.140502\n",
       "17     fitness_level_Somewhat Active    0.365098\n",
       "18               weight_groups_Obese    1.853945\n",
       "19         weight_groups_Over Weight    1.467710\n",
       "20        weight_groups_Under Weight    2.487555\n",
       "21          weight_groups_Very Obese    0.426776\n",
       "22          fitness_group_Low Active   -0.417941\n",
       "23         fitness_group_None Active    0.140502\n",
       "24     fitness_group_Somewhat Active    0.365098"
      ]
     },
     "execution_count": 38,
     "metadata": {},
     "output_type": "execute_result"
    }
   ],
   "source": [
    "summary_table.index = summary_table.index + 1\n",
    "summary_table.loc[0] = ['Intercept', model.intercept_[0]]\n",
    "summary_table = summary_table.sort_index()\n",
    "summary_table"
   ]
  },
  {
   "cell_type": "markdown",
   "metadata": {},
   "source": [
    "adding the log(odds) column on to the table"
   ]
  },
  {
   "cell_type": "code",
   "execution_count": 39,
   "metadata": {},
   "outputs": [
    {
     "data": {
      "text/html": [
       "<div>\n",
       "<style scoped>\n",
       "    .dataframe tbody tr th:only-of-type {\n",
       "        vertical-align: middle;\n",
       "    }\n",
       "\n",
       "    .dataframe tbody tr th {\n",
       "        vertical-align: top;\n",
       "    }\n",
       "\n",
       "    .dataframe thead th {\n",
       "        text-align: right;\n",
       "    }\n",
       "</style>\n",
       "<table border=\"1\" class=\"dataframe\">\n",
       "  <thead>\n",
       "    <tr style=\"text-align: right;\">\n",
       "      <th></th>\n",
       "      <th>Features</th>\n",
       "      <th>Coefffient</th>\n",
       "      <th>Odds_ratio</th>\n",
       "    </tr>\n",
       "  </thead>\n",
       "  <tbody>\n",
       "    <tr>\n",
       "      <th>0</th>\n",
       "      <td>Intercept</td>\n",
       "      <td>-0.053424</td>\n",
       "      <td>0.947978</td>\n",
       "    </tr>\n",
       "    <tr>\n",
       "      <th>1</th>\n",
       "      <td>age</td>\n",
       "      <td>0.644888</td>\n",
       "      <td>1.905773</td>\n",
       "    </tr>\n",
       "    <tr>\n",
       "      <th>2</th>\n",
       "      <td>bmi</td>\n",
       "      <td>1.492494</td>\n",
       "      <td>4.448176</td>\n",
       "    </tr>\n",
       "    <tr>\n",
       "      <th>3</th>\n",
       "      <td>steps</td>\n",
       "      <td>0.187500</td>\n",
       "      <td>1.206230</td>\n",
       "    </tr>\n",
       "    <tr>\n",
       "      <th>4</th>\n",
       "      <td>children</td>\n",
       "      <td>-0.935372</td>\n",
       "      <td>0.392440</td>\n",
       "    </tr>\n",
       "    <tr>\n",
       "      <th>5</th>\n",
       "      <td>sex_male</td>\n",
       "      <td>-0.101796</td>\n",
       "      <td>0.903213</td>\n",
       "    </tr>\n",
       "    <tr>\n",
       "      <th>6</th>\n",
       "      <td>smoker_yes</td>\n",
       "      <td>4.146623</td>\n",
       "      <td>63.220124</td>\n",
       "    </tr>\n",
       "    <tr>\n",
       "      <th>7</th>\n",
       "      <td>region_northwest</td>\n",
       "      <td>-0.480158</td>\n",
       "      <td>0.618686</td>\n",
       "    </tr>\n",
       "    <tr>\n",
       "      <th>8</th>\n",
       "      <td>region_southeast</td>\n",
       "      <td>-0.363229</td>\n",
       "      <td>0.695427</td>\n",
       "    </tr>\n",
       "    <tr>\n",
       "      <th>9</th>\n",
       "      <td>region_southwest</td>\n",
       "      <td>-0.320016</td>\n",
       "      <td>0.726137</td>\n",
       "    </tr>\n",
       "    <tr>\n",
       "      <th>10</th>\n",
       "      <td>age_group_adults</td>\n",
       "      <td>0.144205</td>\n",
       "      <td>1.155120</td>\n",
       "    </tr>\n",
       "    <tr>\n",
       "      <th>11</th>\n",
       "      <td>age_group_seniors</td>\n",
       "      <td>-0.562987</td>\n",
       "      <td>0.569506</td>\n",
       "    </tr>\n",
       "    <tr>\n",
       "      <th>12</th>\n",
       "      <td>age_group_teen</td>\n",
       "      <td>0.161441</td>\n",
       "      <td>1.175204</td>\n",
       "    </tr>\n",
       "    <tr>\n",
       "      <th>13</th>\n",
       "      <td>age_group_young adults</td>\n",
       "      <td>-0.892127</td>\n",
       "      <td>0.409783</td>\n",
       "    </tr>\n",
       "    <tr>\n",
       "      <th>14</th>\n",
       "      <td>parental_status_Parent</td>\n",
       "      <td>-1.962370</td>\n",
       "      <td>0.140525</td>\n",
       "    </tr>\n",
       "    <tr>\n",
       "      <th>15</th>\n",
       "      <td>fitness_level_Low Active</td>\n",
       "      <td>-0.417941</td>\n",
       "      <td>0.658401</td>\n",
       "    </tr>\n",
       "    <tr>\n",
       "      <th>16</th>\n",
       "      <td>fitness_level_Sedntary Lifestyle</td>\n",
       "      <td>0.140502</td>\n",
       "      <td>1.150851</td>\n",
       "    </tr>\n",
       "    <tr>\n",
       "      <th>17</th>\n",
       "      <td>fitness_level_Somewhat Active</td>\n",
       "      <td>0.365098</td>\n",
       "      <td>1.440655</td>\n",
       "    </tr>\n",
       "    <tr>\n",
       "      <th>18</th>\n",
       "      <td>weight_groups_Obese</td>\n",
       "      <td>1.853945</td>\n",
       "      <td>6.384956</td>\n",
       "    </tr>\n",
       "    <tr>\n",
       "      <th>19</th>\n",
       "      <td>weight_groups_Over Weight</td>\n",
       "      <td>1.467710</td>\n",
       "      <td>4.339286</td>\n",
       "    </tr>\n",
       "    <tr>\n",
       "      <th>20</th>\n",
       "      <td>weight_groups_Under Weight</td>\n",
       "      <td>2.487555</td>\n",
       "      <td>12.031819</td>\n",
       "    </tr>\n",
       "    <tr>\n",
       "      <th>21</th>\n",
       "      <td>weight_groups_Very Obese</td>\n",
       "      <td>0.426776</td>\n",
       "      <td>1.532310</td>\n",
       "    </tr>\n",
       "    <tr>\n",
       "      <th>22</th>\n",
       "      <td>fitness_group_Low Active</td>\n",
       "      <td>-0.417941</td>\n",
       "      <td>0.658401</td>\n",
       "    </tr>\n",
       "    <tr>\n",
       "      <th>23</th>\n",
       "      <td>fitness_group_None Active</td>\n",
       "      <td>0.140502</td>\n",
       "      <td>1.150851</td>\n",
       "    </tr>\n",
       "    <tr>\n",
       "      <th>24</th>\n",
       "      <td>fitness_group_Somewhat Active</td>\n",
       "      <td>0.365098</td>\n",
       "      <td>1.440655</td>\n",
       "    </tr>\n",
       "  </tbody>\n",
       "</table>\n",
       "</div>"
      ],
      "text/plain": [
       "                            Features  Coefffient  Odds_ratio\n",
       "0                          Intercept   -0.053424    0.947978\n",
       "1                                age    0.644888    1.905773\n",
       "2                                bmi    1.492494    4.448176\n",
       "3                              steps    0.187500    1.206230\n",
       "4                           children   -0.935372    0.392440\n",
       "5                           sex_male   -0.101796    0.903213\n",
       "6                         smoker_yes    4.146623   63.220124\n",
       "7                   region_northwest   -0.480158    0.618686\n",
       "8                   region_southeast   -0.363229    0.695427\n",
       "9                   region_southwest   -0.320016    0.726137\n",
       "10                  age_group_adults    0.144205    1.155120\n",
       "11                 age_group_seniors   -0.562987    0.569506\n",
       "12                    age_group_teen    0.161441    1.175204\n",
       "13            age_group_young adults   -0.892127    0.409783\n",
       "14            parental_status_Parent   -1.962370    0.140525\n",
       "15          fitness_level_Low Active   -0.417941    0.658401\n",
       "16  fitness_level_Sedntary Lifestyle    0.140502    1.150851\n",
       "17     fitness_level_Somewhat Active    0.365098    1.440655\n",
       "18               weight_groups_Obese    1.853945    6.384956\n",
       "19         weight_groups_Over Weight    1.467710    4.339286\n",
       "20        weight_groups_Under Weight    2.487555   12.031819\n",
       "21          weight_groups_Very Obese    0.426776    1.532310\n",
       "22          fitness_group_Low Active   -0.417941    0.658401\n",
       "23         fitness_group_None Active    0.140502    1.150851\n",
       "24     fitness_group_Somewhat Active    0.365098    1.440655"
      ]
     },
     "execution_count": 39,
     "metadata": {},
     "output_type": "execute_result"
    }
   ],
   "source": [
    "summary_table['Odds_ratio'] = np.exp(summary_table['Coefffient'])\n",
    "summary_table"
   ]
  },
  {
   "cell_type": "code",
   "execution_count": 40,
   "metadata": {},
   "outputs": [
    {
     "data": {
      "text/html": [
       "<div>\n",
       "<style scoped>\n",
       "    .dataframe tbody tr th:only-of-type {\n",
       "        vertical-align: middle;\n",
       "    }\n",
       "\n",
       "    .dataframe tbody tr th {\n",
       "        vertical-align: top;\n",
       "    }\n",
       "\n",
       "    .dataframe thead th {\n",
       "        text-align: right;\n",
       "    }\n",
       "</style>\n",
       "<table border=\"1\" class=\"dataframe\">\n",
       "  <thead>\n",
       "    <tr style=\"text-align: right;\">\n",
       "      <th></th>\n",
       "      <th>Features</th>\n",
       "      <th>Coefffient</th>\n",
       "      <th>Odds_ratio</th>\n",
       "    </tr>\n",
       "  </thead>\n",
       "  <tbody>\n",
       "    <tr>\n",
       "      <th>6</th>\n",
       "      <td>smoker_yes</td>\n",
       "      <td>4.146623</td>\n",
       "      <td>63.220124</td>\n",
       "    </tr>\n",
       "    <tr>\n",
       "      <th>20</th>\n",
       "      <td>weight_groups_Under Weight</td>\n",
       "      <td>2.487555</td>\n",
       "      <td>12.031819</td>\n",
       "    </tr>\n",
       "    <tr>\n",
       "      <th>18</th>\n",
       "      <td>weight_groups_Obese</td>\n",
       "      <td>1.853945</td>\n",
       "      <td>6.384956</td>\n",
       "    </tr>\n",
       "    <tr>\n",
       "      <th>2</th>\n",
       "      <td>bmi</td>\n",
       "      <td>1.492494</td>\n",
       "      <td>4.448176</td>\n",
       "    </tr>\n",
       "    <tr>\n",
       "      <th>19</th>\n",
       "      <td>weight_groups_Over Weight</td>\n",
       "      <td>1.467710</td>\n",
       "      <td>4.339286</td>\n",
       "    </tr>\n",
       "    <tr>\n",
       "      <th>1</th>\n",
       "      <td>age</td>\n",
       "      <td>0.644888</td>\n",
       "      <td>1.905773</td>\n",
       "    </tr>\n",
       "    <tr>\n",
       "      <th>21</th>\n",
       "      <td>weight_groups_Very Obese</td>\n",
       "      <td>0.426776</td>\n",
       "      <td>1.532310</td>\n",
       "    </tr>\n",
       "    <tr>\n",
       "      <th>24</th>\n",
       "      <td>fitness_group_Somewhat Active</td>\n",
       "      <td>0.365098</td>\n",
       "      <td>1.440655</td>\n",
       "    </tr>\n",
       "    <tr>\n",
       "      <th>17</th>\n",
       "      <td>fitness_level_Somewhat Active</td>\n",
       "      <td>0.365098</td>\n",
       "      <td>1.440655</td>\n",
       "    </tr>\n",
       "    <tr>\n",
       "      <th>3</th>\n",
       "      <td>steps</td>\n",
       "      <td>0.187500</td>\n",
       "      <td>1.206230</td>\n",
       "    </tr>\n",
       "    <tr>\n",
       "      <th>12</th>\n",
       "      <td>age_group_teen</td>\n",
       "      <td>0.161441</td>\n",
       "      <td>1.175204</td>\n",
       "    </tr>\n",
       "    <tr>\n",
       "      <th>10</th>\n",
       "      <td>age_group_adults</td>\n",
       "      <td>0.144205</td>\n",
       "      <td>1.155120</td>\n",
       "    </tr>\n",
       "    <tr>\n",
       "      <th>16</th>\n",
       "      <td>fitness_level_Sedntary Lifestyle</td>\n",
       "      <td>0.140502</td>\n",
       "      <td>1.150851</td>\n",
       "    </tr>\n",
       "    <tr>\n",
       "      <th>23</th>\n",
       "      <td>fitness_group_None Active</td>\n",
       "      <td>0.140502</td>\n",
       "      <td>1.150851</td>\n",
       "    </tr>\n",
       "    <tr>\n",
       "      <th>0</th>\n",
       "      <td>Intercept</td>\n",
       "      <td>-0.053424</td>\n",
       "      <td>0.947978</td>\n",
       "    </tr>\n",
       "    <tr>\n",
       "      <th>5</th>\n",
       "      <td>sex_male</td>\n",
       "      <td>-0.101796</td>\n",
       "      <td>0.903213</td>\n",
       "    </tr>\n",
       "    <tr>\n",
       "      <th>9</th>\n",
       "      <td>region_southwest</td>\n",
       "      <td>-0.320016</td>\n",
       "      <td>0.726137</td>\n",
       "    </tr>\n",
       "    <tr>\n",
       "      <th>8</th>\n",
       "      <td>region_southeast</td>\n",
       "      <td>-0.363229</td>\n",
       "      <td>0.695427</td>\n",
       "    </tr>\n",
       "    <tr>\n",
       "      <th>15</th>\n",
       "      <td>fitness_level_Low Active</td>\n",
       "      <td>-0.417941</td>\n",
       "      <td>0.658401</td>\n",
       "    </tr>\n",
       "    <tr>\n",
       "      <th>22</th>\n",
       "      <td>fitness_group_Low Active</td>\n",
       "      <td>-0.417941</td>\n",
       "      <td>0.658401</td>\n",
       "    </tr>\n",
       "    <tr>\n",
       "      <th>7</th>\n",
       "      <td>region_northwest</td>\n",
       "      <td>-0.480158</td>\n",
       "      <td>0.618686</td>\n",
       "    </tr>\n",
       "    <tr>\n",
       "      <th>11</th>\n",
       "      <td>age_group_seniors</td>\n",
       "      <td>-0.562987</td>\n",
       "      <td>0.569506</td>\n",
       "    </tr>\n",
       "    <tr>\n",
       "      <th>13</th>\n",
       "      <td>age_group_young adults</td>\n",
       "      <td>-0.892127</td>\n",
       "      <td>0.409783</td>\n",
       "    </tr>\n",
       "    <tr>\n",
       "      <th>4</th>\n",
       "      <td>children</td>\n",
       "      <td>-0.935372</td>\n",
       "      <td>0.392440</td>\n",
       "    </tr>\n",
       "    <tr>\n",
       "      <th>14</th>\n",
       "      <td>parental_status_Parent</td>\n",
       "      <td>-1.962370</td>\n",
       "      <td>0.140525</td>\n",
       "    </tr>\n",
       "  </tbody>\n",
       "</table>\n",
       "</div>"
      ],
      "text/plain": [
       "                            Features  Coefffient  Odds_ratio\n",
       "6                         smoker_yes    4.146623   63.220124\n",
       "20        weight_groups_Under Weight    2.487555   12.031819\n",
       "18               weight_groups_Obese    1.853945    6.384956\n",
       "2                                bmi    1.492494    4.448176\n",
       "19         weight_groups_Over Weight    1.467710    4.339286\n",
       "1                                age    0.644888    1.905773\n",
       "21          weight_groups_Very Obese    0.426776    1.532310\n",
       "24     fitness_group_Somewhat Active    0.365098    1.440655\n",
       "17     fitness_level_Somewhat Active    0.365098    1.440655\n",
       "3                              steps    0.187500    1.206230\n",
       "12                    age_group_teen    0.161441    1.175204\n",
       "10                  age_group_adults    0.144205    1.155120\n",
       "16  fitness_level_Sedntary Lifestyle    0.140502    1.150851\n",
       "23         fitness_group_None Active    0.140502    1.150851\n",
       "0                          Intercept   -0.053424    0.947978\n",
       "5                           sex_male   -0.101796    0.903213\n",
       "9                   region_southwest   -0.320016    0.726137\n",
       "8                   region_southeast   -0.363229    0.695427\n",
       "15          fitness_level_Low Active   -0.417941    0.658401\n",
       "22          fitness_group_Low Active   -0.417941    0.658401\n",
       "7                   region_northwest   -0.480158    0.618686\n",
       "11                 age_group_seniors   -0.562987    0.569506\n",
       "13            age_group_young adults   -0.892127    0.409783\n",
       "4                           children   -0.935372    0.392440\n",
       "14            parental_status_Parent   -1.962370    0.140525"
      ]
     },
     "execution_count": 40,
     "metadata": {},
     "output_type": "execute_result"
    }
   ],
   "source": [
    "summary_table.sort_values('Odds_ratio', ascending=False)"
   ]
  },
  {
   "cell_type": "code",
   "execution_count": 41,
   "metadata": {},
   "outputs": [],
   "source": [
    "summary_table.to_csv('summary_table.csv')"
   ]
  },
  {
   "cell_type": "markdown",
   "metadata": {},
   "source": [
    "# confusion matrix"
   ]
  },
  {
   "cell_type": "code",
   "execution_count": 42,
   "metadata": {},
   "outputs": [],
   "source": [
    "from sklearn.metrics import confusion_matrix"
   ]
  },
  {
   "cell_type": "code",
   "execution_count": 43,
   "metadata": {},
   "outputs": [],
   "source": [
    "y_pred =  model.predict(X_test)"
   ]
  },
  {
   "cell_type": "code",
   "execution_count": 44,
   "metadata": {},
   "outputs": [
    {
     "data": {
      "text/plain": [
       "array([[ 87,  13],\n",
       "       [ 15, 153]], dtype=int64)"
      ]
     },
     "execution_count": 44,
     "metadata": {},
     "output_type": "execute_result"
    }
   ],
   "source": [
    "confusion_matrix(y_test,y_pred)"
   ]
  },
  {
   "cell_type": "markdown",
   "metadata": {},
   "source": [
    "# Test the Model"
   ]
  },
  {
   "cell_type": "code",
   "execution_count": 45,
   "metadata": {},
   "outputs": [],
   "source": [
    "from sklearn.metrics import classification_report"
   ]
  },
  {
   "cell_type": "code",
   "execution_count": 46,
   "metadata": {},
   "outputs": [
    {
     "name": "stdout",
     "output_type": "stream",
     "text": [
      "              precision    recall  f1-score   support\n",
      "\n",
      "           0       0.85      0.87      0.86       100\n",
      "           1       0.92      0.91      0.92       168\n",
      "\n",
      "   micro avg       0.90      0.90      0.90       268\n",
      "   macro avg       0.89      0.89      0.89       268\n",
      "weighted avg       0.90      0.90      0.90       268\n",
      "\n"
     ]
    }
   ],
   "source": [
    "print(classification_report(y_test,y_pred))"
   ]
  },
  {
   "cell_type": "code",
   "execution_count": null,
   "metadata": {},
   "outputs": [],
   "source": [
    "modelscore()"
   ]
  },
  {
   "cell_type": "markdown",
   "metadata": {},
   "source": [
    "# save the model"
   ]
  },
  {
   "cell_type": "code",
   "execution_count": 47,
   "metadata": {},
   "outputs": [],
   "source": [
    "import pickle"
   ]
  },
  {
   "cell_type": "code",
   "execution_count": 48,
   "metadata": {},
   "outputs": [],
   "source": [
    "with open('model','wb') as file:\n",
    "    pickle.dump(model,file)"
   ]
  },
  {
   "cell_type": "code",
   "execution_count": 49,
   "metadata": {},
   "outputs": [],
   "source": [
    "with open('scaler','wb') as file:\n",
    "    pickle.dump(scaler,file)"
   ]
  },
  {
   "cell_type": "markdown",
   "metadata": {},
   "source": [
    "# Data Visualisation"
   ]
  },
  {
   "cell_type": "code",
   "execution_count": 50,
   "metadata": {},
   "outputs": [],
   "source": [
    "import matplotlib.pyplot as plt\n",
    "import seaborn as sns\n",
    "%matplotlib inline\n"
   ]
  },
  {
   "cell_type": "code",
   "execution_count": 51,
   "metadata": {},
   "outputs": [],
   "source": [
    "raw_data = raw_data.drop('Unnamed: 0', axis=1)"
   ]
  },
  {
   "cell_type": "code",
   "execution_count": 52,
   "metadata": {},
   "outputs": [
    {
     "data": {
      "text/html": [
       "<div>\n",
       "<style scoped>\n",
       "    .dataframe tbody tr th:only-of-type {\n",
       "        vertical-align: middle;\n",
       "    }\n",
       "\n",
       "    .dataframe tbody tr th {\n",
       "        vertical-align: top;\n",
       "    }\n",
       "\n",
       "    .dataframe thead th {\n",
       "        text-align: right;\n",
       "    }\n",
       "</style>\n",
       "<table border=\"1\" class=\"dataframe\">\n",
       "  <thead>\n",
       "    <tr style=\"text-align: right;\">\n",
       "      <th></th>\n",
       "      <th>age</th>\n",
       "      <th>sex</th>\n",
       "      <th>bmi</th>\n",
       "      <th>steps</th>\n",
       "      <th>children</th>\n",
       "      <th>smoker</th>\n",
       "      <th>region</th>\n",
       "      <th>insurance_claim</th>\n",
       "      <th>claim_amount</th>\n",
       "      <th>age_group</th>\n",
       "      <th>parental_status</th>\n",
       "      <th>fitness_level</th>\n",
       "      <th>weight_groups</th>\n",
       "      <th>fitness_group</th>\n",
       "    </tr>\n",
       "  </thead>\n",
       "  <tbody>\n",
       "    <tr>\n",
       "      <th>0</th>\n",
       "      <td>36</td>\n",
       "      <td>female</td>\n",
       "      <td>29.9</td>\n",
       "      <td>8007</td>\n",
       "      <td>0</td>\n",
       "      <td>no</td>\n",
       "      <td>southeast</td>\n",
       "      <td>yes</td>\n",
       "      <td>4889.04</td>\n",
       "      <td>adults</td>\n",
       "      <td>None Parent</td>\n",
       "      <td>Somewhat Active</td>\n",
       "      <td>Over Weight</td>\n",
       "      <td>Somewhat Active</td>\n",
       "    </tr>\n",
       "    <tr>\n",
       "      <th>1</th>\n",
       "      <td>38</td>\n",
       "      <td>female</td>\n",
       "      <td>40.2</td>\n",
       "      <td>4008</td>\n",
       "      <td>0</td>\n",
       "      <td>no</td>\n",
       "      <td>southeast</td>\n",
       "      <td>yes</td>\n",
       "      <td>5400.98</td>\n",
       "      <td>adults</td>\n",
       "      <td>None Parent</td>\n",
       "      <td>Sedntary Lifestyle</td>\n",
       "      <td>Very Obese</td>\n",
       "      <td>None Active</td>\n",
       "    </tr>\n",
       "    <tr>\n",
       "      <th>2</th>\n",
       "      <td>41</td>\n",
       "      <td>male</td>\n",
       "      <td>40.3</td>\n",
       "      <td>3001</td>\n",
       "      <td>0</td>\n",
       "      <td>no</td>\n",
       "      <td>southeast</td>\n",
       "      <td>yes</td>\n",
       "      <td>5709.16</td>\n",
       "      <td>adults</td>\n",
       "      <td>None Parent</td>\n",
       "      <td>Sedntary Lifestyle</td>\n",
       "      <td>Very Obese</td>\n",
       "      <td>None Active</td>\n",
       "    </tr>\n",
       "    <tr>\n",
       "      <th>3</th>\n",
       "      <td>40</td>\n",
       "      <td>male</td>\n",
       "      <td>41.7</td>\n",
       "      <td>4007</td>\n",
       "      <td>0</td>\n",
       "      <td>no</td>\n",
       "      <td>southeast</td>\n",
       "      <td>yes</td>\n",
       "      <td>5438.75</td>\n",
       "      <td>adults</td>\n",
       "      <td>None Parent</td>\n",
       "      <td>Sedntary Lifestyle</td>\n",
       "      <td>Very Obese</td>\n",
       "      <td>None Active</td>\n",
       "    </tr>\n",
       "    <tr>\n",
       "      <th>4</th>\n",
       "      <td>39</td>\n",
       "      <td>female</td>\n",
       "      <td>41.8</td>\n",
       "      <td>3008</td>\n",
       "      <td>0</td>\n",
       "      <td>no</td>\n",
       "      <td>southeast</td>\n",
       "      <td>yes</td>\n",
       "      <td>5662.23</td>\n",
       "      <td>adults</td>\n",
       "      <td>None Parent</td>\n",
       "      <td>Sedntary Lifestyle</td>\n",
       "      <td>Very Obese</td>\n",
       "      <td>None Active</td>\n",
       "    </tr>\n",
       "  </tbody>\n",
       "</table>\n",
       "</div>"
      ],
      "text/plain": [
       "   age     sex   bmi  steps  children smoker     region insurance_claim  \\\n",
       "0   36  female  29.9   8007         0     no  southeast             yes   \n",
       "1   38  female  40.2   4008         0     no  southeast             yes   \n",
       "2   41    male  40.3   3001         0     no  southeast             yes   \n",
       "3   40    male  41.7   4007         0     no  southeast             yes   \n",
       "4   39  female  41.8   3008         0     no  southeast             yes   \n",
       "\n",
       "   claim_amount age_group parental_status       fitness_level weight_groups  \\\n",
       "0       4889.04    adults     None Parent     Somewhat Active   Over Weight   \n",
       "1       5400.98    adults     None Parent  Sedntary Lifestyle    Very Obese   \n",
       "2       5709.16    adults     None Parent  Sedntary Lifestyle    Very Obese   \n",
       "3       5438.75    adults     None Parent  Sedntary Lifestyle    Very Obese   \n",
       "4       5662.23    adults     None Parent  Sedntary Lifestyle    Very Obese   \n",
       "\n",
       "     fitness_group  \n",
       "0  Somewhat Active  \n",
       "1      None Active  \n",
       "2      None Active  \n",
       "3      None Active  \n",
       "4      None Active  "
      ]
     },
     "execution_count": 52,
     "metadata": {},
     "output_type": "execute_result"
    }
   ],
   "source": [
    "raw_data.head()"
   ]
  },
  {
   "cell_type": "code",
   "execution_count": 53,
   "metadata": {},
   "outputs": [],
   "source": [
    "raw_data['fitness_level'] = raw_data['fitness_level'].map({'Somewhat Active': \"SM_Active\", 'Sedentary Lifestyle': \"\"})"
   ]
  },
  {
   "cell_type": "code",
   "execution_count": 54,
   "metadata": {},
   "outputs": [
    {
     "data": {
      "text/plain": [
       "Text(0.5, 1.0, 'Age on Claims')"
      ]
     },
     "execution_count": 54,
     "metadata": {},
     "output_type": "execute_result"
    },
    {
     "data": {
      "text/plain": [
       "<Figure size 1152x432 with 0 Axes>"
      ]
     },
     "metadata": {},
     "output_type": "display_data"
    },
    {
     "data": {
      "image/png": "[encoded data removed]",
      "text/plain": [
       "<Figure size 430.5x360 with 1 Axes>"
      ]
     },
     "metadata": {
      "needs_background": "light"
     },
     "output_type": "display_data"
    }
   ],
   "source": [
    "plt.figure(figsize=(16, 6))\n",
    "sns.relplot(x='age', y='claim_amount', hue= 'sex', data=raw_data, palette='husl')\n",
    "plt.title('Age on Claims')"
   ]
  },
  {
   "cell_type": "code",
   "execution_count": 55,
   "metadata": {},
   "outputs": [
    {
     "data": {
      "text/plain": [
       "Text(0.5, 1.0, 'Age and Smoking on Claims')"
      ]
     },
     "execution_count": 55,
     "metadata": {},
     "output_type": "execute_result"
    },
    {
     "data": {
      "text/plain": [
       "<Figure size 1152x576 with 0 Axes>"
      ]
     },
     "metadata": {},
     "output_type": "display_data"
    },
    {
     "data": {
      "image/png": "[encoded data removed]",
      "text/plain": [
       "<Figure size 432.875x360 with 1 Axes>"
      ]
     },
     "metadata": {
      "needs_background": "light"
     },
     "output_type": "display_data"
    }
   ],
   "source": [
    "plt.figure(figsize=(16, 8))\n",
    "sns.relplot(x='fitness_group', y='claim_amount', hue='smoker', style= 'sex', data=raw_data, palette='husl')\n",
    "plt.title('Age and Smoking on Claims')"
   ]
  },
  {
   "cell_type": "code",
   "execution_count": 58,
   "metadata": {},
   "outputs": [
    {
     "data": {
      "text/plain": [
       "Text(0.5, 1.0, 'Claims Distribution')"
      ]
     },
     "execution_count": 58,
     "metadata": {},
     "output_type": "execute_result"
    },
    {
     "data": {
      "image/png": "[encoded data removed]",
      "text/plain": [
       "<Figure size 432x288 with 1 Axes>"
      ]
     },
     "metadata": {
      "needs_background": "light"
     },
     "output_type": "display_data"
    }
   ],
   "source": [
    "sns.violinplot(x=\"sex\", y='claim_amount', hue=\"smoker\", data=raw_data, palette='Dark2')\n",
    "plt.title('Claims Distribution')\n"
   ]
  },
  {
   "cell_type": "code",
   "execution_count": 61,
   "metadata": {},
   "outputs": [],
   "source": [
    "data_grouped=raw_data.groupby(['smoker', 'sex']).agg({'claim_amount':'sum','sex':'count'})\n",
    "data_grouped['mean_claims']= data_grouped['claim_amount']/data_grouped['sex']\n",
    "data_grouped=data_grouped.rename(columns={'sex':'number_in_gender'})\n",
    "data_grouped.index=[0,1,2,3]\n",
    "data_grouped['smoker']=['no','no','yes','yes']\n",
    "data_grouped['sex']=['female','male','female','male']\n",
    "data_grouped=data_grouped[['smoker', 'sex','number_in_gender','claim_amount','mean_claims']]\n",
    "data_grouped.to_csv('grouped.csv')"
   ]
  },
  {
   "cell_type": "code",
   "execution_count": 63,
   "metadata": {},
   "outputs": [
    {
     "data": {
      "text/plain": [
       "Text(0.5, 1.0, 'Average Claims ')"
      ]
     },
     "execution_count": 63,
     "metadata": {},
     "output_type": "execute_result"
    },
    {
     "data": {
      "image/png": "[encoded data removed]",
      "text/plain": [
       "<Figure size 413.25x360 with 1 Axes>"
      ]
     },
     "metadata": {
      "needs_background": "light"
     },
     "output_type": "display_data"
    }
   ],
   "source": [
    "sns.catplot(x='sex',y='mean_claims',hue='smoker',kind='bar',data=data_grouped, palette='Dark2')\n",
    "plt.title('Average Claims ')"
   ]
  },
  {
   "cell_type": "code",
   "execution_count": 64,
   "metadata": {},
   "outputs": [
    {
     "data": {
      "text/plain": [
       "Text(0.5, 1.0, 'Age Distribution by Smoker')"
      ]
     },
     "execution_count": 64,
     "metadata": {},
     "output_type": "execute_result"
    },
    {
     "data": {
      "image/png": "[encoded data removed]",
      "text/plain": [
       "<Figure size 413.25x360 with 1 Axes>"
      ]
     },
     "metadata": {
      "needs_background": "light"
     },
     "output_type": "display_data"
    }
   ],
   "source": [
    "sns.catplot(x='sex',y='number_in_gender',hue='smoker',kind='bar',data=data_grouped, palette='Dark2')\n",
    "plt.title('Age Distribution by Smoker')"
   ]
  },
  {
   "cell_type": "code",
   "execution_count": 166,
   "metadata": {},
   "outputs": [
    {
     "data": {
      "text/plain": [
       "Text(0.5, 1.0, 'Effect of BMI on Claims')"
      ]
     },
     "execution_count": 166,
     "metadata": {},
     "output_type": "execute_result"
    },
    {
     "data": {
      "image/png": "[encoded data removed]",
      "text/plain": [
       "<Figure size 430.5x360 with 1 Axes>"
      ]
     },
     "metadata": {
      "needs_background": "light"
     },
     "output_type": "display_data"
    }
   ],
   "source": [
    "sns.relplot(x='fitness_group',y='claim_amount',style='sex',data=raw_data)\n",
    "plt.title('Effect of BMI on Claims')"
   ]
  },
  {
   "cell_type": "code",
   "execution_count": 167,
   "metadata": {},
   "outputs": [
    {
     "data": {
      "text/plain": [
       "<seaborn.axisgrid.FacetGrid at 0x1a19a9a1940>"
      ]
     },
     "execution_count": 167,
     "metadata": {},
     "output_type": "execute_result"
    },
    {
     "data": {
      "image/png": "[encoded data removed]",
      "text/plain": [
       "<Figure size 473.625x360 with 1 Axes>"
      ]
     },
     "metadata": {
      "needs_background": "light"
     },
     "output_type": "display_data"
    }
   ],
   "source": [
    "sns.relplot(x='fitness_group',y='claim_amount',hue='parental_status',style='sex',data=raw_data)"
   ]
  },
  {
   "cell_type": "code",
   "execution_count": 144,
   "metadata": {},
   "outputs": [
    {
     "name": "stderr",
     "output_type": "stream",
     "text": [
      "C:\\Users\\student-cpt-321\\anaconda3\\lib\\site-packages\\scipy\\stats\\stats.py:1713: FutureWarning: Using a non-tuple sequence for multidimensional indexing is deprecated; use `arr[tuple(seq)]` instead of `arr[seq]`. In the future this will be interpreted as an array index, `arr[np.array(seq)]`, which will result either in an error or a different result.\n",
      "  return np.add.reduce(sorted[indexer] * weights, axis=axis) / sumval\n"
     ]
    },
    {
     "data": {
      "text/plain": [
       "<seaborn.axisgrid.PairGrid at 0x1a192a211d0>"
      ]
     },
     "execution_count": 144,
     "metadata": {},
     "output_type": "execute_result"
    },
    {
     "data": {
      "image/png": "[encoded data removed]",
      "text/plain": [
       "<Figure size 790.5x720 with 20 Axes>"
      ]
     },
     "metadata": {
      "needs_background": "light"
     },
     "output_type": "display_data"
    }
   ],
   "source": [
    "sns.pairplot(raw_data, vars= ['age','bmi','children','claim_amount'], hue='sex')"
   ]
  },
  {
   "cell_type": "code",
   "execution_count": null,
   "metadata": {},
   "outputs": [],
   "source": []
  },
  {
   "cell_type": "code",
   "execution_count": 135,
   "metadata": {},
   "outputs": [
    {
     "data": {
      "text/plain": [
       "<seaborn.axisgrid.FacetGrid at 0x1a192b3fc18>"
      ]
     },
     "execution_count": 135,
     "metadata": {},
     "output_type": "execute_result"
    },
    {
     "data": {
      "image/png": "[encoded data removed]",
      "text/plain": [
       "<Figure size 413.25x360 with 1 Axes>"
      ]
     },
     "metadata": {
      "needs_background": "light"
     },
     "output_type": "display_data"
    }
   ],
   "source": [
    "sns.catplot(x='sex',y='number_in_gender',hue='smoker',kind='bar',data=data_grouped, palette='Dark2')"
   ]
  }
 ],
 "metadata": {
  "kernelspec": {
   "display_name": "Python 3",
   "language": "python",
   "name": "python3"
  },
  "language_info": {
   "codemirror_mode": {
    "name": "ipython",
    "version": 3
   },
   "file_extension": ".py",
   "mimetype": "text/x-python",
   "name": "python",
   "nbconvert_exporter": "python",
   "pygments_lexer": "ipython3",
   "version": "3.7.1"
  }
 },
 "nbformat": 4,
 "nbformat_minor": 2
}
